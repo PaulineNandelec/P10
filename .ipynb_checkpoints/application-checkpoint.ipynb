{
 "cells": [
  {
   "cell_type": "code",
   "execution_count": 10,
   "id": "c1210fe8-5189-4130-ba55-4e4e99bce7f6",
   "metadata": {
    "tags": []
   },
   "outputs": [],
   "source": [
    "import pandas as pd\n",
    "import joblib"
   ]
  },
  {
   "cell_type": "code",
   "execution_count": 11,
   "id": "46ed9da6-1e91-4340-9319-c8a8f219288a",
   "metadata": {
    "tags": []
   },
   "outputs": [
    {
     "data": {
      "text/html": [
       "<div>\n",
       "<style scoped>\n",
       "    .dataframe tbody tr th:only-of-type {\n",
       "        vertical-align: middle;\n",
       "    }\n",
       "\n",
       "    .dataframe tbody tr th {\n",
       "        vertical-align: top;\n",
       "    }\n",
       "\n",
       "    .dataframe thead th {\n",
       "        text-align: right;\n",
       "    }\n",
       "</style>\n",
       "<table border=\"1\" class=\"dataframe\">\n",
       "  <thead>\n",
       "    <tr style=\"text-align: right;\">\n",
       "      <th></th>\n",
       "      <th>diagonal</th>\n",
       "      <th>height_left</th>\n",
       "      <th>height_right</th>\n",
       "      <th>margin_low</th>\n",
       "      <th>margin_up</th>\n",
       "      <th>length</th>\n",
       "    </tr>\n",
       "    <tr>\n",
       "      <th>id</th>\n",
       "      <th></th>\n",
       "      <th></th>\n",
       "      <th></th>\n",
       "      <th></th>\n",
       "      <th></th>\n",
       "      <th></th>\n",
       "    </tr>\n",
       "  </thead>\n",
       "  <tbody>\n",
       "    <tr>\n",
       "      <th>B_1</th>\n",
       "      <td>172.09</td>\n",
       "      <td>103.95</td>\n",
       "      <td>103.73</td>\n",
       "      <td>4.39</td>\n",
       "      <td>3.09</td>\n",
       "      <td>113.19</td>\n",
       "    </tr>\n",
       "    <tr>\n",
       "      <th>B_2</th>\n",
       "      <td>171.52</td>\n",
       "      <td>104.17</td>\n",
       "      <td>104.03</td>\n",
       "      <td>5.27</td>\n",
       "      <td>3.16</td>\n",
       "      <td>111.82</td>\n",
       "    </tr>\n",
       "    <tr>\n",
       "      <th>B_3</th>\n",
       "      <td>171.78</td>\n",
       "      <td>103.80</td>\n",
       "      <td>103.75</td>\n",
       "      <td>3.81</td>\n",
       "      <td>3.24</td>\n",
       "      <td>113.39</td>\n",
       "    </tr>\n",
       "    <tr>\n",
       "      <th>B_4</th>\n",
       "      <td>172.02</td>\n",
       "      <td>104.08</td>\n",
       "      <td>103.99</td>\n",
       "      <td>5.57</td>\n",
       "      <td>3.30</td>\n",
       "      <td>111.10</td>\n",
       "    </tr>\n",
       "    <tr>\n",
       "      <th>B_5</th>\n",
       "      <td>171.79</td>\n",
       "      <td>104.34</td>\n",
       "      <td>104.37</td>\n",
       "      <td>5.00</td>\n",
       "      <td>3.07</td>\n",
       "      <td>111.87</td>\n",
       "    </tr>\n",
       "  </tbody>\n",
       "</table>\n",
       "</div>"
      ],
      "text/plain": [
       "     diagonal  height_left  height_right  margin_low  margin_up  length\n",
       "id                                                                     \n",
       "B_1    172.09       103.95        103.73        4.39       3.09  113.19\n",
       "B_2    171.52       104.17        104.03        5.27       3.16  111.82\n",
       "B_3    171.78       103.80        103.75        3.81       3.24  113.39\n",
       "B_4    172.02       104.08        103.99        5.57       3.30  111.10\n",
       "B_5    171.79       104.34        104.37        5.00       3.07  111.87"
      ]
     },
     "execution_count": 11,
     "metadata": {},
     "output_type": "execute_result"
    }
   ],
   "source": [
    "# Exemple lecture CSV\n",
    "df = pd.read_csv(\"billets_test.csv\", index_col='id')\n",
    "df"
   ]
  },
  {
   "cell_type": "code",
   "execution_count": 12,
   "id": "6a0471fa-a87f-4bd3-baa8-65d8cef42a30",
   "metadata": {
    "tags": []
   },
   "outputs": [],
   "source": [
    "scaler = joblib.load('scaler.pkl')"
   ]
  },
  {
   "cell_type": "markdown",
   "id": "b7f7198a-63f0-418e-82a5-3133564ccb23",
   "metadata": {},
   "source": [
    "vérifier nom des colonnes, valeurs nulles"
   ]
  },
  {
   "cell_type": "code",
   "execution_count": 13,
   "id": "3cdc238b-4617-43af-9c7e-cc6b5e1d0dc0",
   "metadata": {
    "tags": []
   },
   "outputs": [
    {
     "data": {
      "text/html": [
       "<div>\n",
       "<style scoped>\n",
       "    .dataframe tbody tr th:only-of-type {\n",
       "        vertical-align: middle;\n",
       "    }\n",
       "\n",
       "    .dataframe tbody tr th {\n",
       "        vertical-align: top;\n",
       "    }\n",
       "\n",
       "    .dataframe thead th {\n",
       "        text-align: right;\n",
       "    }\n",
       "</style>\n",
       "<table border=\"1\" class=\"dataframe\">\n",
       "  <thead>\n",
       "    <tr style=\"text-align: right;\">\n",
       "      <th></th>\n",
       "      <th>diagonal</th>\n",
       "      <th>height_left</th>\n",
       "      <th>height_right</th>\n",
       "      <th>margin_low</th>\n",
       "      <th>margin_up</th>\n",
       "      <th>length</th>\n",
       "    </tr>\n",
       "    <tr>\n",
       "      <th>id</th>\n",
       "      <th></th>\n",
       "      <th></th>\n",
       "      <th></th>\n",
       "      <th></th>\n",
       "      <th></th>\n",
       "      <th></th>\n",
       "    </tr>\n",
       "  </thead>\n",
       "  <tbody>\n",
       "    <tr>\n",
       "      <th>B_1</th>\n",
       "      <td>0.394165</td>\n",
       "      <td>-0.302367</td>\n",
       "      <td>-0.599977</td>\n",
       "      <td>-0.157289</td>\n",
       "      <td>-0.256289</td>\n",
       "      <td>0.597494</td>\n",
       "    </tr>\n",
       "    <tr>\n",
       "      <th>B_2</th>\n",
       "      <td>-1.511646</td>\n",
       "      <td>0.436023</td>\n",
       "      <td>0.340863</td>\n",
       "      <td>1.211252</td>\n",
       "      <td>0.049626</td>\n",
       "      <td>-0.976874</td>\n",
       "    </tr>\n",
       "    <tr>\n",
       "      <th>B_3</th>\n",
       "      <td>-0.642329</td>\n",
       "      <td>-0.805815</td>\n",
       "      <td>-0.537254</td>\n",
       "      <td>-1.059281</td>\n",
       "      <td>0.399244</td>\n",
       "      <td>0.827329</td>\n",
       "    </tr>\n",
       "    <tr>\n",
       "      <th>B_4</th>\n",
       "      <td>0.160118</td>\n",
       "      <td>0.133954</td>\n",
       "      <td>0.215417</td>\n",
       "      <td>1.677800</td>\n",
       "      <td>0.661457</td>\n",
       "      <td>-1.804280</td>\n",
       "    </tr>\n",
       "    <tr>\n",
       "      <th>B_5</th>\n",
       "      <td>-0.608894</td>\n",
       "      <td>1.006597</td>\n",
       "      <td>1.407148</td>\n",
       "      <td>0.791359</td>\n",
       "      <td>-0.343693</td>\n",
       "      <td>-0.919416</td>\n",
       "    </tr>\n",
       "  </tbody>\n",
       "</table>\n",
       "</div>"
      ],
      "text/plain": [
       "     diagonal  height_left  height_right  margin_low  margin_up    length\n",
       "id                                                                       \n",
       "B_1  0.394165    -0.302367     -0.599977   -0.157289  -0.256289  0.597494\n",
       "B_2 -1.511646     0.436023      0.340863    1.211252   0.049626 -0.976874\n",
       "B_3 -0.642329    -0.805815     -0.537254   -1.059281   0.399244  0.827329\n",
       "B_4  0.160118     0.133954      0.215417    1.677800   0.661457 -1.804280\n",
       "B_5 -0.608894     1.006597      1.407148    0.791359  -0.343693 -0.919416"
      ]
     },
     "execution_count": 13,
     "metadata": {},
     "output_type": "execute_result"
    }
   ],
   "source": [
    "df_scaled = pd.DataFrame(scaler.transform(df), index = df.index, columns=df.columns)\n",
    "df_scaled"
   ]
  },
  {
   "cell_type": "code",
   "execution_count": 14,
   "id": "26906d99-0771-424c-aa13-54d3806abbe1",
   "metadata": {
    "tags": []
   },
   "outputs": [],
   "source": [
    "#On charge le modèle\n",
    "modele = joblib.load(\"prediction_billet.pkl\")"
   ]
  },
  {
   "cell_type": "code",
   "execution_count": 15,
   "id": "ab1abe3d-f431-4559-8146-41b31e0eb611",
   "metadata": {
    "tags": []
   },
   "outputs": [],
   "source": [
    "predictions = modele.predict(df)\n",
    "proba_is_genuine = modele.predict_proba(df)[:, 1] # on ne veut que le probabilité que le billet soit vrai\n",
    "\n",
    "df['is_genuine'] = predictions\n",
    "df['proba_is_genuine'] = proba_is_genuine"
   ]
  },
  {
   "cell_type": "code",
   "execution_count": 16,
   "id": "f1cc8536-fa02-40a0-8c07-19ab6d0df317",
   "metadata": {
    "tags": []
   },
   "outputs": [
    {
     "data": {
      "text/plain": [
       "array([9.98220855e-01, 7.62091001e-04, 9.99941541e-01, 1.20074361e-06,\n",
       "       1.47815809e-03])"
      ]
     },
     "execution_count": 16,
     "metadata": {},
     "output_type": "execute_result"
    }
   ],
   "source": [
    "proba"
   ]
  },
  {
   "cell_type": "code",
   "execution_count": 17,
   "id": "494173b2-35f7-434e-9d54-4e4dcb7fdaee",
   "metadata": {
    "tags": []
   },
   "outputs": [
    {
     "data": {
      "text/html": [
       "<div>\n",
       "<style scoped>\n",
       "    .dataframe tbody tr th:only-of-type {\n",
       "        vertical-align: middle;\n",
       "    }\n",
       "\n",
       "    .dataframe tbody tr th {\n",
       "        vertical-align: top;\n",
       "    }\n",
       "\n",
       "    .dataframe thead th {\n",
       "        text-align: right;\n",
       "    }\n",
       "</style>\n",
       "<table border=\"1\" class=\"dataframe\">\n",
       "  <thead>\n",
       "    <tr style=\"text-align: right;\">\n",
       "      <th></th>\n",
       "      <th>diagonal</th>\n",
       "      <th>height_left</th>\n",
       "      <th>height_right</th>\n",
       "      <th>margin_low</th>\n",
       "      <th>margin_up</th>\n",
       "      <th>length</th>\n",
       "      <th>is_genuine</th>\n",
       "      <th>proba_is_genuine</th>\n",
       "    </tr>\n",
       "    <tr>\n",
       "      <th>id</th>\n",
       "      <th></th>\n",
       "      <th></th>\n",
       "      <th></th>\n",
       "      <th></th>\n",
       "      <th></th>\n",
       "      <th></th>\n",
       "      <th></th>\n",
       "      <th></th>\n",
       "    </tr>\n",
       "  </thead>\n",
       "  <tbody>\n",
       "    <tr>\n",
       "      <th>B_1</th>\n",
       "      <td>172.09</td>\n",
       "      <td>103.95</td>\n",
       "      <td>103.73</td>\n",
       "      <td>4.39</td>\n",
       "      <td>3.09</td>\n",
       "      <td>113.19</td>\n",
       "      <td>1</td>\n",
       "      <td>0.998221</td>\n",
       "    </tr>\n",
       "    <tr>\n",
       "      <th>B_2</th>\n",
       "      <td>171.52</td>\n",
       "      <td>104.17</td>\n",
       "      <td>104.03</td>\n",
       "      <td>5.27</td>\n",
       "      <td>3.16</td>\n",
       "      <td>111.82</td>\n",
       "      <td>0</td>\n",
       "      <td>0.000762</td>\n",
       "    </tr>\n",
       "    <tr>\n",
       "      <th>B_3</th>\n",
       "      <td>171.78</td>\n",
       "      <td>103.80</td>\n",
       "      <td>103.75</td>\n",
       "      <td>3.81</td>\n",
       "      <td>3.24</td>\n",
       "      <td>113.39</td>\n",
       "      <td>1</td>\n",
       "      <td>0.999942</td>\n",
       "    </tr>\n",
       "    <tr>\n",
       "      <th>B_4</th>\n",
       "      <td>172.02</td>\n",
       "      <td>104.08</td>\n",
       "      <td>103.99</td>\n",
       "      <td>5.57</td>\n",
       "      <td>3.30</td>\n",
       "      <td>111.10</td>\n",
       "      <td>0</td>\n",
       "      <td>0.000001</td>\n",
       "    </tr>\n",
       "    <tr>\n",
       "      <th>B_5</th>\n",
       "      <td>171.79</td>\n",
       "      <td>104.34</td>\n",
       "      <td>104.37</td>\n",
       "      <td>5.00</td>\n",
       "      <td>3.07</td>\n",
       "      <td>111.87</td>\n",
       "      <td>0</td>\n",
       "      <td>0.001478</td>\n",
       "    </tr>\n",
       "  </tbody>\n",
       "</table>\n",
       "</div>"
      ],
      "text/plain": [
       "     diagonal  height_left  height_right  margin_low  margin_up  length  \\\n",
       "id                                                                        \n",
       "B_1    172.09       103.95        103.73        4.39       3.09  113.19   \n",
       "B_2    171.52       104.17        104.03        5.27       3.16  111.82   \n",
       "B_3    171.78       103.80        103.75        3.81       3.24  113.39   \n",
       "B_4    172.02       104.08        103.99        5.57       3.30  111.10   \n",
       "B_5    171.79       104.34        104.37        5.00       3.07  111.87   \n",
       "\n",
       "     is_genuine  proba_is_genuine  \n",
       "id                                 \n",
       "B_1           1          0.998221  \n",
       "B_2           0          0.000762  \n",
       "B_3           1          0.999942  \n",
       "B_4           0          0.000001  \n",
       "B_5           0          0.001478  "
      ]
     },
     "execution_count": 17,
     "metadata": {},
     "output_type": "execute_result"
    }
   ],
   "source": [
    "df"
   ]
  },
  {
   "cell_type": "code",
   "execution_count": 9,
   "id": "d0586a30-59cd-43e5-af1e-35946714b6b1",
   "metadata": {
    "tags": []
   },
   "outputs": [
    {
     "name": "stdout",
     "output_type": "stream",
     "text": [
      "C:\\Users\\Pauline NANDELEC\\OCR\\P10\\P10\n"
     ]
    }
   ],
   "source": [
    "import os\n",
    "print(os.getcwd())"
   ]
  },
  {
   "cell_type": "code",
   "execution_count": null,
   "id": "de9f1eb5-5970-4e46-83a8-adfe35bb27e8",
   "metadata": {},
   "outputs": [],
   "source": [
    "# app_streamlit.py\n",
    "import streamlit as st\n",
    "import pandas as pd\n",
    "import joblib\n",
    "\n",
    "st.title(\"Prédiction de l'authenticité des billets\")\n",
    "\n",
    "fichier = st.file_uploader(\"Charger un fichier CSV\", type=[\"csv\"])\n",
    "if fichier is not None:\n",
    "    df = pd.read_csv(fichier)\n",
    "    # charger modèle\n",
    "    modele = joblib.load(\"prediction_billet.pkl\")\n",
    "    predictions = modele.predict(df)\n",
    "    proba_is_genuine = modele.predict_proba(df)[:, 1] # on ne veut que le probabilité que le billet soit vrai\n",
    "\n",
    "    df['is_genuine'] = predictions\n",
    "    df['proba_is_genuine'] = proba_is_genuine\n",
    "    st.write(df)"
   ]
  }
 ],
 "metadata": {
  "kernelspec": {
   "display_name": "Python 3 (ipykernel)",
   "language": "python",
   "name": "python3"
  },
  "language_info": {
   "codemirror_mode": {
    "name": "ipython",
    "version": 3
   },
   "file_extension": ".py",
   "mimetype": "text/x-python",
   "name": "python",
   "nbconvert_exporter": "python",
   "pygments_lexer": "ipython3",
   "version": "3.11.4"
  }
 },
 "nbformat": 4,
 "nbformat_minor": 5
}
