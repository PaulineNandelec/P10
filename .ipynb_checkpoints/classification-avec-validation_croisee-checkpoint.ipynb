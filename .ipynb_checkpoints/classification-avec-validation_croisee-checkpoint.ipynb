{
 "cells": [
  {
   "cell_type": "markdown",
   "id": "7eb76425-d12c-4ef0-b4ba-12757976510c",
   "metadata": {},
   "source": [
    "# Import librairies et jeux de données"
   ]
  },
  {
   "cell_type": "code",
   "execution_count": 1,
   "id": "ffb1f804-b0ff-4a53-8f01-38756a2b5e4d",
   "metadata": {
    "tags": []
   },
   "outputs": [],
   "source": [
    "import pandas as pd\n",
    "import numpy as np\n",
    "\n",
    "#pour les représentations graphiques\n",
    "import seaborn as sns\n",
    "import matplotlib.pyplot as plt\n",
    "import plotly.graph_objects as go\n",
    "\n",
    "#pour centrer-réduire\n",
    "from sklearn.preprocessing import MinMaxScaler, StandardScaler\n",
    "\n",
    "#pour les test statistiques\n",
    "from scipy.stats import ttest_ind, shapiro\n",
    "\n",
    "#pour les modèles non-supervisés\n",
    "from sklearn.decomposition import PCA\n",
    "from sklearn.cluster import KMeans\n",
    "\n",
    "#pour les modèles supervisés\n",
    "from sklearn.linear_model import LogisticRegression, LinearRegression\n",
    "from sklearn.model_selection import train_test_split\n",
    "\n",
    "#Pour évaluer les performances des modèles\n",
    "from sklearn.metrics import confusion_matrix, mean_squared_error, mean_absolute_percentage_error, accuracy_score, precision_score, recall_score, roc_auc_score, roc_curve\n",
    "from scipy.optimize import linear_sum_assignment"
   ]
  },
  {
   "cell_type": "code",
   "execution_count": 2,
   "id": "1555dc04-97c1-423f-81d4-f6da11d4fe9a",
   "metadata": {
    "tags": []
   },
   "outputs": [],
   "source": [
    "df_scaled = pd.read_csv(\"df_scaled.csv\", sep=',')\n",
    "df = pd.read_csv(\"df.csv\", sep=';')"
   ]
  },
  {
   "cell_type": "code",
   "execution_count": 4,
   "id": "94ddf5e0-b163-4171-aa26-005e807582ff",
   "metadata": {
    "tags": []
   },
   "outputs": [
    {
     "data": {
      "text/html": [
       "<div>\n",
       "<style scoped>\n",
       "    .dataframe tbody tr th:only-of-type {\n",
       "        vertical-align: middle;\n",
       "    }\n",
       "\n",
       "    .dataframe tbody tr th {\n",
       "        vertical-align: top;\n",
       "    }\n",
       "\n",
       "    .dataframe thead th {\n",
       "        text-align: right;\n",
       "    }\n",
       "</style>\n",
       "<table border=\"1\" class=\"dataframe\">\n",
       "  <thead>\n",
       "    <tr style=\"text-align: right;\">\n",
       "      <th></th>\n",
       "      <th>is_genuine,diagonal,height_left,height_right,margin_low,margin_up,length</th>\n",
       "    </tr>\n",
       "  </thead>\n",
       "  <tbody>\n",
       "    <tr>\n",
       "      <th>0</th>\n",
       "      <td>1.0,0.3908629441624498,0.988505747126446,1.0,0...</td>\n",
       "    </tr>\n",
       "    <tr>\n",
       "      <th>1</th>\n",
       "      <td>1.0,0.21319796954315962,0.12643678160920047,0....</td>\n",
       "    </tr>\n",
       "    <tr>\n",
       "      <th>2</th>\n",
       "      <td>1.0,0.8375634517766599,0.7701149425287426,0.31...</td>\n",
       "    </tr>\n",
       "    <tr>\n",
       "      <th>3</th>\n",
       "      <td>1.0,0.1624365482233685,0.4425287356321874,0.52...</td>\n",
       "    </tr>\n",
       "    <tr>\n",
       "      <th>4</th>\n",
       "      <td>1.0,0.35025380710659704,0.6551724137931103,0.3...</td>\n",
       "    </tr>\n",
       "  </tbody>\n",
       "</table>\n",
       "</div>"
      ],
      "text/plain": [
       "  is_genuine,diagonal,height_left,height_right,margin_low,margin_up,length\n",
       "0  1.0,0.3908629441624498,0.988505747126446,1.0,0...                      \n",
       "1  1.0,0.21319796954315962,0.12643678160920047,0....                      \n",
       "2  1.0,0.8375634517766599,0.7701149425287426,0.31...                      \n",
       "3  1.0,0.1624365482233685,0.4425287356321874,0.52...                      \n",
       "4  1.0,0.35025380710659704,0.6551724137931103,0.3...                      "
      ]
     },
     "execution_count": 4,
     "metadata": {},
     "output_type": "execute_result"
    }
   ],
   "source": [
    "df.head()"
   ]
  },
  {
   "cell_type": "markdown",
   "id": "7eacff50-857e-4281-b101-fd67b2261228",
   "metadata": {},
   "source": [
    "# Clustering"
   ]
  },
  {
   "cell_type": "markdown",
   "id": "9fdac8eb-fca1-4200-b757-8b69eb9857a1",
   "metadata": {
    "tags": []
   },
   "source": [
    "## Application du Kmeans"
   ]
  },
  {
   "cell_type": "code",
   "execution_count": 3,
   "id": "757e57b2-4f76-4452-9ad7-2c5c540df0e7",
   "metadata": {
    "tags": []
   },
   "outputs": [
    {
     "ename": "KeyError",
     "evalue": "\"['is_genuine'] not found in axis\"",
     "output_type": "error",
     "traceback": [
      "\u001b[1;31m---------------------------------------------------------------------------\u001b[0m",
      "\u001b[1;31mKeyError\u001b[0m                                  Traceback (most recent call last)",
      "Cell \u001b[1;32mIn[3], line 2\u001b[0m\n\u001b[0;32m      1\u001b[0m \u001b[38;5;66;03m#on supprime la colonne is_genuine\u001b[39;00m\n\u001b[1;32m----> 2\u001b[0m df_kmeans \u001b[38;5;241m=\u001b[39m df_scaled\u001b[38;5;241m.\u001b[39mdrop(columns\u001b[38;5;241m=\u001b[39m\u001b[38;5;124m'\u001b[39m\u001b[38;5;124mis_genuine\u001b[39m\u001b[38;5;124m'\u001b[39m)\n\u001b[0;32m      3\u001b[0m df_kmeans\u001b[38;5;241m.\u001b[39mhead()\n",
      "File \u001b[1;32m~\\anaconda3\\Lib\\site-packages\\pandas\\util\\_decorators.py:331\u001b[0m, in \u001b[0;36mdeprecate_nonkeyword_arguments.<locals>.decorate.<locals>.wrapper\u001b[1;34m(*args, **kwargs)\u001b[0m\n\u001b[0;32m    325\u001b[0m \u001b[38;5;28;01mif\u001b[39;00m \u001b[38;5;28mlen\u001b[39m(args) \u001b[38;5;241m>\u001b[39m num_allow_args:\n\u001b[0;32m    326\u001b[0m     warnings\u001b[38;5;241m.\u001b[39mwarn(\n\u001b[0;32m    327\u001b[0m         msg\u001b[38;5;241m.\u001b[39mformat(arguments\u001b[38;5;241m=\u001b[39m_format_argument_list(allow_args)),\n\u001b[0;32m    328\u001b[0m         \u001b[38;5;167;01mFutureWarning\u001b[39;00m,\n\u001b[0;32m    329\u001b[0m         stacklevel\u001b[38;5;241m=\u001b[39mfind_stack_level(),\n\u001b[0;32m    330\u001b[0m     )\n\u001b[1;32m--> 331\u001b[0m \u001b[38;5;28;01mreturn\u001b[39;00m func(\u001b[38;5;241m*\u001b[39margs, \u001b[38;5;241m*\u001b[39m\u001b[38;5;241m*\u001b[39mkwargs)\n",
      "File \u001b[1;32m~\\anaconda3\\Lib\\site-packages\\pandas\\core\\frame.py:5399\u001b[0m, in \u001b[0;36mDataFrame.drop\u001b[1;34m(self, labels, axis, index, columns, level, inplace, errors)\u001b[0m\n\u001b[0;32m   5251\u001b[0m \u001b[38;5;129m@deprecate_nonkeyword_arguments\u001b[39m(version\u001b[38;5;241m=\u001b[39m\u001b[38;5;28;01mNone\u001b[39;00m, allowed_args\u001b[38;5;241m=\u001b[39m[\u001b[38;5;124m\"\u001b[39m\u001b[38;5;124mself\u001b[39m\u001b[38;5;124m\"\u001b[39m, \u001b[38;5;124m\"\u001b[39m\u001b[38;5;124mlabels\u001b[39m\u001b[38;5;124m\"\u001b[39m])\n\u001b[0;32m   5252\u001b[0m \u001b[38;5;28;01mdef\u001b[39;00m \u001b[38;5;21mdrop\u001b[39m(  \u001b[38;5;66;03m# type: ignore[override]\u001b[39;00m\n\u001b[0;32m   5253\u001b[0m     \u001b[38;5;28mself\u001b[39m,\n\u001b[1;32m   (...)\u001b[0m\n\u001b[0;32m   5260\u001b[0m     errors: IgnoreRaise \u001b[38;5;241m=\u001b[39m \u001b[38;5;124m\"\u001b[39m\u001b[38;5;124mraise\u001b[39m\u001b[38;5;124m\"\u001b[39m,\n\u001b[0;32m   5261\u001b[0m ) \u001b[38;5;241m-\u001b[39m\u001b[38;5;241m>\u001b[39m DataFrame \u001b[38;5;241m|\u001b[39m \u001b[38;5;28;01mNone\u001b[39;00m:\n\u001b[0;32m   5262\u001b[0m \u001b[38;5;250m    \u001b[39m\u001b[38;5;124;03m\"\"\"\u001b[39;00m\n\u001b[0;32m   5263\u001b[0m \u001b[38;5;124;03m    Drop specified labels from rows or columns.\u001b[39;00m\n\u001b[0;32m   5264\u001b[0m \n\u001b[1;32m   (...)\u001b[0m\n\u001b[0;32m   5397\u001b[0m \u001b[38;5;124;03m            weight  1.0     0.8\u001b[39;00m\n\u001b[0;32m   5398\u001b[0m \u001b[38;5;124;03m    \"\"\"\u001b[39;00m\n\u001b[1;32m-> 5399\u001b[0m     \u001b[38;5;28;01mreturn\u001b[39;00m \u001b[38;5;28msuper\u001b[39m()\u001b[38;5;241m.\u001b[39mdrop(\n\u001b[0;32m   5400\u001b[0m         labels\u001b[38;5;241m=\u001b[39mlabels,\n\u001b[0;32m   5401\u001b[0m         axis\u001b[38;5;241m=\u001b[39maxis,\n\u001b[0;32m   5402\u001b[0m         index\u001b[38;5;241m=\u001b[39mindex,\n\u001b[0;32m   5403\u001b[0m         columns\u001b[38;5;241m=\u001b[39mcolumns,\n\u001b[0;32m   5404\u001b[0m         level\u001b[38;5;241m=\u001b[39mlevel,\n\u001b[0;32m   5405\u001b[0m         inplace\u001b[38;5;241m=\u001b[39minplace,\n\u001b[0;32m   5406\u001b[0m         errors\u001b[38;5;241m=\u001b[39merrors,\n\u001b[0;32m   5407\u001b[0m     )\n",
      "File \u001b[1;32m~\\anaconda3\\Lib\\site-packages\\pandas\\util\\_decorators.py:331\u001b[0m, in \u001b[0;36mdeprecate_nonkeyword_arguments.<locals>.decorate.<locals>.wrapper\u001b[1;34m(*args, **kwargs)\u001b[0m\n\u001b[0;32m    325\u001b[0m \u001b[38;5;28;01mif\u001b[39;00m \u001b[38;5;28mlen\u001b[39m(args) \u001b[38;5;241m>\u001b[39m num_allow_args:\n\u001b[0;32m    326\u001b[0m     warnings\u001b[38;5;241m.\u001b[39mwarn(\n\u001b[0;32m    327\u001b[0m         msg\u001b[38;5;241m.\u001b[39mformat(arguments\u001b[38;5;241m=\u001b[39m_format_argument_list(allow_args)),\n\u001b[0;32m    328\u001b[0m         \u001b[38;5;167;01mFutureWarning\u001b[39;00m,\n\u001b[0;32m    329\u001b[0m         stacklevel\u001b[38;5;241m=\u001b[39mfind_stack_level(),\n\u001b[0;32m    330\u001b[0m     )\n\u001b[1;32m--> 331\u001b[0m \u001b[38;5;28;01mreturn\u001b[39;00m func(\u001b[38;5;241m*\u001b[39margs, \u001b[38;5;241m*\u001b[39m\u001b[38;5;241m*\u001b[39mkwargs)\n",
      "File \u001b[1;32m~\\anaconda3\\Lib\\site-packages\\pandas\\core\\generic.py:4505\u001b[0m, in \u001b[0;36mNDFrame.drop\u001b[1;34m(self, labels, axis, index, columns, level, inplace, errors)\u001b[0m\n\u001b[0;32m   4503\u001b[0m \u001b[38;5;28;01mfor\u001b[39;00m axis, labels \u001b[38;5;129;01min\u001b[39;00m axes\u001b[38;5;241m.\u001b[39mitems():\n\u001b[0;32m   4504\u001b[0m     \u001b[38;5;28;01mif\u001b[39;00m labels \u001b[38;5;129;01mis\u001b[39;00m \u001b[38;5;129;01mnot\u001b[39;00m \u001b[38;5;28;01mNone\u001b[39;00m:\n\u001b[1;32m-> 4505\u001b[0m         obj \u001b[38;5;241m=\u001b[39m obj\u001b[38;5;241m.\u001b[39m_drop_axis(labels, axis, level\u001b[38;5;241m=\u001b[39mlevel, errors\u001b[38;5;241m=\u001b[39merrors)\n\u001b[0;32m   4507\u001b[0m \u001b[38;5;28;01mif\u001b[39;00m inplace:\n\u001b[0;32m   4508\u001b[0m     \u001b[38;5;28mself\u001b[39m\u001b[38;5;241m.\u001b[39m_update_inplace(obj)\n",
      "File \u001b[1;32m~\\anaconda3\\Lib\\site-packages\\pandas\\core\\generic.py:4546\u001b[0m, in \u001b[0;36mNDFrame._drop_axis\u001b[1;34m(self, labels, axis, level, errors, only_slice)\u001b[0m\n\u001b[0;32m   4544\u001b[0m         new_axis \u001b[38;5;241m=\u001b[39m axis\u001b[38;5;241m.\u001b[39mdrop(labels, level\u001b[38;5;241m=\u001b[39mlevel, errors\u001b[38;5;241m=\u001b[39merrors)\n\u001b[0;32m   4545\u001b[0m     \u001b[38;5;28;01melse\u001b[39;00m:\n\u001b[1;32m-> 4546\u001b[0m         new_axis \u001b[38;5;241m=\u001b[39m axis\u001b[38;5;241m.\u001b[39mdrop(labels, errors\u001b[38;5;241m=\u001b[39merrors)\n\u001b[0;32m   4547\u001b[0m     indexer \u001b[38;5;241m=\u001b[39m axis\u001b[38;5;241m.\u001b[39mget_indexer(new_axis)\n\u001b[0;32m   4549\u001b[0m \u001b[38;5;66;03m# Case for non-unique axis\u001b[39;00m\n\u001b[0;32m   4550\u001b[0m \u001b[38;5;28;01melse\u001b[39;00m:\n",
      "File \u001b[1;32m~\\anaconda3\\Lib\\site-packages\\pandas\\core\\indexes\\base.py:6934\u001b[0m, in \u001b[0;36mIndex.drop\u001b[1;34m(self, labels, errors)\u001b[0m\n\u001b[0;32m   6932\u001b[0m \u001b[38;5;28;01mif\u001b[39;00m mask\u001b[38;5;241m.\u001b[39many():\n\u001b[0;32m   6933\u001b[0m     \u001b[38;5;28;01mif\u001b[39;00m errors \u001b[38;5;241m!=\u001b[39m \u001b[38;5;124m\"\u001b[39m\u001b[38;5;124mignore\u001b[39m\u001b[38;5;124m\"\u001b[39m:\n\u001b[1;32m-> 6934\u001b[0m         \u001b[38;5;28;01mraise\u001b[39;00m \u001b[38;5;167;01mKeyError\u001b[39;00m(\u001b[38;5;124mf\u001b[39m\u001b[38;5;124m\"\u001b[39m\u001b[38;5;132;01m{\u001b[39;00m\u001b[38;5;28mlist\u001b[39m(labels[mask])\u001b[38;5;132;01m}\u001b[39;00m\u001b[38;5;124m not found in axis\u001b[39m\u001b[38;5;124m\"\u001b[39m)\n\u001b[0;32m   6935\u001b[0m     indexer \u001b[38;5;241m=\u001b[39m indexer[\u001b[38;5;241m~\u001b[39mmask]\n\u001b[0;32m   6936\u001b[0m \u001b[38;5;28;01mreturn\u001b[39;00m \u001b[38;5;28mself\u001b[39m\u001b[38;5;241m.\u001b[39mdelete(indexer)\n",
      "\u001b[1;31mKeyError\u001b[0m: \"['is_genuine'] not found in axis\""
     ]
    }
   ],
   "source": [
    "#on supprime la colonne is_genuine\n",
    "df_kmeans = df_scaled.drop(columns='is_genuine')\n",
    "df_kmeans.head()"
   ]
  },
  {
   "cell_type": "markdown",
   "id": "c5d73e00-de58-480d-8d97-664ff914f0a2",
   "metadata": {},
   "source": [
    "Sachant que l'on cherche à dvisier nos individus selon 2 modalités (vrai/faux billet), j'effectue mon kmeans pour 2 clusters."
   ]
  },
  {
   "cell_type": "code",
   "execution_count": null,
   "id": "603a5062-bb92-402c-b41a-8e441ec0b3a9",
   "metadata": {
    "tags": []
   },
   "outputs": [],
   "source": [
    "# On instancie notre Kmeans avec 2 clusters : \n",
    "kmeans = KMeans(n_clusters=2, random_state=42, n_init=10)\n",
    "\n",
    "# On l'entraine : \n",
    "kmeans.fit(df_kmeans)\n",
    "\n",
    "# On peut stocker nos clusters dans une variable labels : \n",
    "labels = kmeans.labels_\n",
    "labels"
   ]
  },
  {
   "cell_type": "code",
   "execution_count": null,
   "id": "f1d6ea25-7cdb-496a-a2d3-0bf4032f93ee",
   "metadata": {
    "tags": []
   },
   "outputs": [],
   "source": [
    "#creer une colonne pour mettre les clusters generés et ré-intégrer la colonne is_genuine\n",
    "df_kmeans['label_kmeans'] = labels\n",
    "df_kmeans['is_genuine'] = df['is_genuine']\n",
    "df_kmeans.head()"
   ]
  },
  {
   "cell_type": "code",
   "execution_count": null,
   "id": "b885e9ce-1dea-4015-9a12-fe69d20b789f",
   "metadata": {
    "tags": []
   },
   "outputs": [],
   "source": [
    "df_kmeans['label_kmeans'].value_counts()"
   ]
  },
  {
   "cell_type": "markdown",
   "id": "4c7f9c7a-d309-4d84-a9c8-212bea2abf48",
   "metadata": {},
   "source": [
    "## Tableau de contingence"
   ]
  },
  {
   "cell_type": "markdown",
   "id": "d735931e-bc21-44b0-9dcb-a47794c6e1a0",
   "metadata": {
    "tags": []
   },
   "source": [
    "A cette étape, nous voulons nous assurer que chaque cluster obtenu avec le kmeans correspond bien à la même catégorie de la colonne is_genuine."
   ]
  },
  {
   "cell_type": "code",
   "execution_count": null,
   "id": "5d614ca1-09ab-4b17-8c38-f6770b4ee03c",
   "metadata": {
    "tags": []
   },
   "outputs": [],
   "source": [
    "#Création des listes de clusters\n",
    "list_label_is_genuine = list(int(label) for label in df_kmeans['is_genuine'])\n",
    "list_label_kmeans = list(int(label) for label in df_kmeans['label_kmeans'])"
   ]
  },
  {
   "cell_type": "code",
   "execution_count": null,
   "id": "fd2a1090-aaea-4c51-8ec5-935188292808",
   "metadata": {
    "tags": []
   },
   "outputs": [],
   "source": [
    "# Je crée une matrice de confusion entre les deux clusterings\n",
    "conf_mat = confusion_matrix(list_label_is_genuine, list_label_kmeans)\n",
    "\n",
    "# Je cherche l’appariement optimal\n",
    "row_ind, col_ind = linear_sum_assignment(-conf_mat)  # le \"-\" car c'est un problème de maximisation\n",
    "\n",
    "# Je crée un mapping entre les labels\n",
    "label_mapping = {col: row for row, col in zip(row_ind, col_ind)}\n",
    "\n",
    "# Je recalibre les labels KMeans\n",
    "aligned_kmeans_labels = np.array([label_mapping[label] for label in list_label_kmeans])\n",
    "\n",
    "#j'attribue les nouveaux clusters\n",
    "df_kmeans['label_kmeans'] = aligned_kmeans_labels"
   ]
  },
  {
   "cell_type": "code",
   "execution_count": null,
   "id": "eb821415-af99-47f9-b65f-e25d536cd3fe",
   "metadata": {
    "tags": []
   },
   "outputs": [],
   "source": [
    "df_kmeans['label_kmeans'].value_counts()"
   ]
  },
  {
   "cell_type": "code",
   "execution_count": null,
   "id": "229822fb-6eb7-4b1e-9b5c-a5323ec66e14",
   "metadata": {
    "tags": []
   },
   "outputs": [],
   "source": [
    "y_pred = df_kmeans['label_kmeans'].astype(int)\n",
    "y_true = df_kmeans['is_genuine'].astype(int)\n",
    "\n",
    "# Puis affiche la matrice\n",
    "cm = confusion_matrix(y_true, y_pred)\n",
    "cm"
   ]
  },
  {
   "cell_type": "raw",
   "id": "2df1f4d5-a368-4ca1-a126-8b676f7dee09",
   "metadata": {},
   "source": [
    "-12 faux postifs (faux billets classés comme vrais billets par le kmeans)\n",
    "-7 faux négatifs (vrais billets classés comme faux billets par le kmeans)"
   ]
  },
  {
   "cell_type": "markdown",
   "id": "f1cd9870-c6a3-4b1e-894f-efb82b75fc5e",
   "metadata": {
    "tags": []
   },
   "source": [
    "## Calcul des centroïdes"
   ]
  },
  {
   "cell_type": "code",
   "execution_count": null,
   "id": "e5a5b604-c661-4730-b937-c3051328d99b",
   "metadata": {
    "tags": []
   },
   "outputs": [],
   "source": [
    "df_kmeans.drop(columns='is_genuine', inplace=True)\n",
    "mean_values_kmeans = df_kmeans.groupby('label_kmeans').mean()\n",
    "mean_values_kmeans"
   ]
  },
  {
   "cell_type": "markdown",
   "id": "9471fd82-eda8-4210-b71e-aa3545e76b7b",
   "metadata": {},
   "source": [
    "## Exemple avec un nouveau billet"
   ]
  },
  {
   "cell_type": "code",
   "execution_count": null,
   "id": "e59cdfa4-d8ea-4742-b22a-8a0eb6a05673",
   "metadata": {
    "tags": []
   },
   "outputs": [],
   "source": [
    "nouveau_billet = np.array([[0.48, 0.46, 0.46, 0.28, 0.48, 0.75]])"
   ]
  },
  {
   "cell_type": "code",
   "execution_count": null,
   "id": "f857f5a3-23ad-49f7-b19e-ec94fb444cf2",
   "metadata": {
    "tags": []
   },
   "outputs": [],
   "source": [
    "# Prédiction du cluster\n",
    "cluster = kmeans.predict(nouveau_billet)"
   ]
  },
  {
   "cell_type": "code",
   "execution_count": null,
   "id": "94364c5b-b6e8-4287-be16-bf7c2c8ef62d",
   "metadata": {
    "tags": []
   },
   "outputs": [],
   "source": [
    "cluster"
   ]
  },
  {
   "cell_type": "markdown",
   "id": "824f161a-4698-4a40-a99b-442fd80a58a4",
   "metadata": {},
   "source": [
    "Sachant que lors de l'entrainement de Kmeans, 0 correspondant aux vrais billets et 1 aux faux billets, ce billet est vrai."
   ]
  },
  {
   "cell_type": "markdown",
   "id": "de83a807-1610-4ee5-97bd-d003f24b5440",
   "metadata": {},
   "source": [
    "# Régression logistique"
   ]
  },
  {
   "cell_type": "raw",
   "id": "1e721ab3-8626-4d5a-9fea-fa374b3151e7",
   "metadata": {},
   "source": [
    "-instanciation model\n",
    "-définition X et y\n",
    "-vaildation croisé\n",
    "-séparation train/test\n",
    "-entrainement model\n",
    "-mesure performances"
   ]
  },
  {
   "cell_type": "code",
   "execution_count": null,
   "id": "f245bcf8-6333-4d71-bdc1-1a6008dccd7f",
   "metadata": {
    "tags": []
   },
   "outputs": [],
   "source": [
    "df_scaled.head()"
   ]
  },
  {
   "cell_type": "code",
   "execution_count": null,
   "id": "d6192463-99ff-4da6-b41a-eb0f9235566c",
   "metadata": {
    "tags": []
   },
   "outputs": [],
   "source": [
    "df_scaled.loc[df_scaled['is_genuine'] == 0].head()"
   ]
  },
  {
   "cell_type": "markdown",
   "id": "dfbbc7fd-dcf7-4e7a-b8fa-df2aabeb94bf",
   "metadata": {},
   "source": [
    "## Entraînement du modèle"
   ]
  },
  {
   "cell_type": "code",
   "execution_count": null,
   "id": "2c3454fb-cddf-4e73-be14-929e96b99f7d",
   "metadata": {
    "tags": []
   },
   "outputs": [],
   "source": [
    "#définition X et y\n",
    "X = df_scaled.drop(columns='is_genuine').to_numpy()\n",
    "y = df_scaled['is_genuine'].to_numpy()"
   ]
  },
  {
   "cell_type": "code",
   "execution_count": null,
   "id": "72d498a3-0908-4833-95ac-6f88b8489b1c",
   "metadata": {
    "tags": []
   },
   "outputs": [],
   "source": [
    "#séparation train/test\n",
    "X_train, X_test, y_train, y_test = train_test_split(X, y, test_size=0.20, random_state=42)"
   ]
  },
  {
   "cell_type": "code",
   "execution_count": null,
   "id": "f9098320-b184-41c1-926c-cde9d6ec7160",
   "metadata": {
    "tags": []
   },
   "outputs": [],
   "source": [
    "#initialisation et entraînement du modèle\n",
    "clf = LogisticRegression(random_state=808).fit(X_train, y_train)"
   ]
  },
  {
   "cell_type": "code",
   "execution_count": null,
   "id": "811759bd-220a-4f51-a267-8bb141b88877",
   "metadata": {
    "tags": []
   },
   "outputs": [],
   "source": [
    "# Prediction d'un échantillon\n",
    "print(\"Prédiction\",clf.predict([X[1000, :]])[0])\n",
    "\n",
    "print(\"Probabilité\",clf.predict_proba([X[1000, :]])[0][0])"
   ]
  },
  {
   "cell_type": "markdown",
   "id": "fb4a80f7-851d-4624-bd15-92ff36629d0f",
   "metadata": {},
   "source": [
    "Soit 82.51 % de chance d'appartenir à la classe 0."
   ]
  },
  {
   "cell_type": "code",
   "execution_count": null,
   "id": "1d70e55e-1683-4b9f-89b7-7747b40a61e0",
   "metadata": {
    "tags": []
   },
   "outputs": [],
   "source": [
    "print(\"Classe réelle du billet: \", y[1000])"
   ]
  },
  {
   "cell_type": "code",
   "execution_count": null,
   "id": "4e80a932-c63c-4ef8-bbd4-8306571df75e",
   "metadata": {
    "tags": []
   },
   "outputs": [],
   "source": [
    "# Prediction d'un échantillon\n",
    "print(\"Prédiction\",clf.predict([X[0, :]])[0])\n",
    "\n",
    "print(\"Probabilité\",clf.predict_proba([X[0, :]])[0][0])"
   ]
  },
  {
   "cell_type": "code",
   "execution_count": null,
   "id": "160a992a-6b0d-4170-bfec-ef2b90d70c05",
   "metadata": {},
   "outputs": [],
   "source": [
    "Soit 54.83 % de chance d'appartenir à la classe 0."
   ]
  },
  {
   "cell_type": "code",
   "execution_count": null,
   "id": "349bdfed-9685-4122-92f6-7fdc992661c2",
   "metadata": {
    "tags": []
   },
   "outputs": [],
   "source": [
    "print(\"Classe réelle du billet: \", y[0])"
   ]
  },
  {
   "cell_type": "markdown",
   "id": "02a2ceeb-8646-4e21-8b0f-86d5da8e4104",
   "metadata": {},
   "source": [
    "## Mesures de perfomance"
   ]
  },
  {
   "cell_type": "code",
   "execution_count": null,
   "id": "ee5d7fde-b392-4b41-a616-dc429dca5f6d",
   "metadata": {
    "tags": []
   },
   "outputs": [],
   "source": [
    "#histogramme des probabilités de prédiction\n",
    "y_hat_proba = clf.predict_proba(X_test)[:,1]\n",
    "sns.histplot(y_hat_proba)"
   ]
  },
  {
   "cell_type": "markdown",
   "id": "0b0bcba8-838e-4ab8-a9f7-ede4eec1d97d",
   "metadata": {},
   "source": [
    "Le modèle est assez confiant de ses prédiction, la plupart des prédictions ont une probabilité proche de 0 ou de 1"
   ]
  },
  {
   "cell_type": "code",
   "execution_count": null,
   "id": "c4915349-1b26-4e58-a601-a3d976dabe41",
   "metadata": {
    "tags": []
   },
   "outputs": [],
   "source": [
    "#Accuracy \n",
    "y_pred = clf.predict(X_test)\n",
    "\n",
    "print(\"accuracy\",accuracy_score(y_test, y_pred))"
   ]
  },
  {
   "cell_type": "markdown",
   "id": "451857f7-34d6-4e52-a074-a3271dd94632",
   "metadata": {},
   "source": [
    "L'accuracy mesure le nombre d'échantillons qui ont été bien classés sur le nombre d'échantillons total. 98.7% est un très bon score."
   ]
  },
  {
   "cell_type": "code",
   "execution_count": null,
   "id": "959213d0-bbc8-4f34-9913-be51d2053be8",
   "metadata": {
    "tags": []
   },
   "outputs": [],
   "source": [
    "#matrice de confusion\n",
    "\n",
    "confusion_matrix(y_test, y_pred)"
   ]
  },
  {
   "cell_type": "markdown",
   "id": "e7f4fa6c-4aff-4cf3-b375-1e303e2be64e",
   "metadata": {},
   "source": [
    "4 faux positifs (faux billets classés comme vrais billets)"
   ]
  },
  {
   "cell_type": "markdown",
   "id": "9fcea193-ad5c-4ce3-b60a-0cbbcf70173d",
   "metadata": {},
   "source": [
    "## Test avec d'autres seuils de classification"
   ]
  },
  {
   "cell_type": "markdown",
   "id": "14ddb3ea-d18b-49ac-91cd-85be7559a9ef",
   "metadata": {},
   "source": [
    "Dans le cas de la détection de fraude, il y a un fort déséquilibre entre les cas positifs et les cas négatifs dans le dataset.\n",
    "On obtient ici une accuracy de 98.7% mais il faut faire intervenir d'autres métriques de classification adaptées à ce type de situation pour adapter notre modèle."
   ]
  },
  {
   "cell_type": "raw",
   "id": "a0816986-8dbd-4f90-a1c2-f75cc571c84a",
   "metadata": {},
   "source": [
    "Les scores obtenus sont dépendants du seuil de classification.\n",
    "Par défaut, on considère un seuil de  t=0.5: si la probabilité prédite <0.5, alors la prédiction est la catégorie 0, sinon 1. \n",
    "Mais on peut considérer d'autres valeurs pour ce seuil. Comparons les résultats obtenus pour 2 autres seuils. Par exemple t=0.3 et t=0.7.\n",
    "Pour obtenir les catégories prédites avec ces seuils, on part des probabilités prédites par le modèle :"
   ]
  },
  {
   "cell_type": "code",
   "execution_count": null,
   "id": "fa63e0af-dca7-4cc4-8a5d-b39ef712ea0d",
   "metadata": {
    "tags": []
   },
   "outputs": [],
   "source": [
    "y_hat_proba = clf.predict_proba(X_test)[:,1]"
   ]
  },
  {
   "cell_type": "code",
   "execution_count": null,
   "id": "8ebbdd96-2429-4651-a2ad-9829673b0f65",
   "metadata": {
    "tags": []
   },
   "outputs": [],
   "source": [
    "#On obtient les catégories relatives pour les 2 seuils :\n",
    "y_pred_03 = [ 0 if value < 0.3 else 1 for value in y_hat_proba ]\n",
    "y_pred_07 = [ 0 if value < 0.7 else 1 for value in y_hat_proba ]"
   ]
  },
  {
   "cell_type": "code",
   "execution_count": null,
   "id": "e6c496db-778c-4f81-b961-88df770c0ab3",
   "metadata": {
    "tags": []
   },
   "outputs": [],
   "source": [
    "#On a alors les matrices de confusion suivantes :\n",
    "\n",
    "#pour 0.3:\n",
    "confusion_matrix(y_test, y_pred_03)"
   ]
  },
  {
   "cell_type": "markdown",
   "id": "f1a77469-51b3-4b0c-bbca-555558c13e0d",
   "metadata": {
    "tags": []
   },
   "source": [
    "12 faux positifs (faux billets classés comme vrais billets)"
   ]
  },
  {
   "cell_type": "code",
   "execution_count": null,
   "id": "d3484f06-b174-49a9-9bd9-965911bc40f8",
   "metadata": {
    "tags": []
   },
   "outputs": [],
   "source": [
    "#pour 0.7:\n",
    "confusion_matrix(y_test, y_pred_07)"
   ]
  },
  {
   "cell_type": "markdown",
   "id": "77933ebe-6b98-404b-82a4-31fb4e24adde",
   "metadata": {},
   "source": [
    "1 faux positif (faux billet classé comme vrai) et 3 faux négatifs (vrais billets classés comme faux)"
   ]
  },
  {
   "cell_type": "code",
   "execution_count": null,
   "id": "2ecd5651-1997-44b3-a246-14f1de269337",
   "metadata": {
    "tags": []
   },
   "outputs": [],
   "source": [
    "#Autres métriques de classification\n",
    "print(\"Accuracy:\",accuracy_score(y_test, y_pred))\n",
    "print(\"Precision:\",precision_score(y_test, y_pred))\n",
    "print(\"Recall:\",recall_score(y_test, y_pred))"
   ]
  },
  {
   "cell_type": "code",
   "execution_count": null,
   "id": "9782c09d-f8df-475b-a6f5-ea5292493bba",
   "metadata": {
    "tags": []
   },
   "outputs": [],
   "source": [
    "print(\"Accuracy:\",accuracy_score(y_test, y_pred_03))\n",
    "print(\"Precision:\",precision_score(y_test, y_pred_03))\n",
    "print(\"Recall:\",recall_score(y_test, y_pred_03))"
   ]
  },
  {
   "cell_type": "code",
   "execution_count": null,
   "id": "ed90c60e-58f3-4d43-8a82-0d74186fde71",
   "metadata": {
    "tags": []
   },
   "outputs": [],
   "source": [
    "print(\"Accuracy:\",accuracy_score(y_test, y_pred_07))\n",
    "print(\"Precision:\",precision_score(y_test, y_pred_07))\n",
    "print(\"Recall:\",recall_score(y_test, y_pred_07))"
   ]
  },
  {
   "cell_type": "raw",
   "id": "d40098f6-af14-4ce8-b159-590ce37f2cdd",
   "metadata": {},
   "source": [
    "Interprétation:\n",
    "-un seuil de classification + bas (0.3) diminue la précision donc la capacité à minimiser les faux positifs ainsi que l'accuracy cad échantillons bien classés / échantillons au total\n",
    "-un seuil de classfication + haut (0.7) augmente la précision donc la capacité à minimiser les faux positifs, diminue le recall cad la capacité à minimiser les faux positifs et conserve une accuracy égale au seuil de classification par défaut (0.5).\n",
    "\n",
    "Dans notre contexte, on cherche à diminuer les faux positifs, un seuil de classification élevé est donc plus adapté."
   ]
  },
  {
   "cell_type": "code",
   "execution_count": null,
   "id": "f35e762e-dadf-4af3-ac5c-f89c862d4308",
   "metadata": {
    "tags": []
   },
   "outputs": [],
   "source": [
    "#On peut tracer la courbe ROC pour visualiser cela.\n",
    "\n",
    "#Pour seuil de classification = 0.5\n",
    "fpr, tpr, thresholds = roc_curve(y_test, y_hat_proba)\n",
    "plt.plot(fpr, tpr)\n",
    "plt.title(\"ROC curve 0.5\")"
   ]
  },
  {
   "cell_type": "code",
   "execution_count": null,
   "id": "542d38a2-a44b-4c40-a657-46aaa2626546",
   "metadata": {
    "tags": []
   },
   "outputs": [],
   "source": [
    "#Pour seuil de classification = 0.3\n",
    "fpr, tpr, thresholds = roc_curve(y_test, y_pred_03)\n",
    "plt.plot(fpr, tpr)\n",
    "plt.title(\"ROC curve 0.3\")"
   ]
  },
  {
   "cell_type": "code",
   "execution_count": null,
   "id": "42719a53-da06-446d-a7f0-ffef906d5a32",
   "metadata": {
    "tags": []
   },
   "outputs": [],
   "source": [
    "#Pour seuil de classification = 0.7\n",
    "fpr, tpr, thresholds = roc_curve(y_test, y_pred_07)\n",
    "plt.plot(fpr, tpr)\n",
    "plt.title(\"ROC curve 0.7\")"
   ]
  },
  {
   "cell_type": "code",
   "execution_count": null,
   "id": "d3c98366-5bd6-4a3b-aae7-d8b2e4a0733c",
   "metadata": {},
   "outputs": [],
   "source": [
    "\"Plus la courbe se rapproche du coin en haut à gauche, meilleur est le modèle.\": le meilleur modèle est donc celui avec le seuil de classification 0.7."
   ]
  }
 ],
 "metadata": {
  "kernelspec": {
   "display_name": "Python 3 (ipykernel)",
   "language": "python",
   "name": "python3"
  },
  "language_info": {
   "codemirror_mode": {
    "name": "ipython",
    "version": 3
   },
   "file_extension": ".py",
   "mimetype": "text/x-python",
   "name": "python",
   "nbconvert_exporter": "python",
   "pygments_lexer": "ipython3",
   "version": "3.11.4"
  }
 },
 "nbformat": 4,
 "nbformat_minor": 5
}
