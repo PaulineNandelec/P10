{
 "cells": [
  {
   "cell_type": "markdown",
   "id": "7eb76425-d12c-4ef0-b4ba-12757976510c",
   "metadata": {},
   "source": [
    "# Import librairies et jeux de données"
   ]
  },
  {
   "cell_type": "code",
   "execution_count": 1,
   "id": "ffb1f804-b0ff-4a53-8f01-38756a2b5e4d",
   "metadata": {
    "tags": []
   },
   "outputs": [],
   "source": [
    "import pandas as pd\n",
    "import numpy as np\n",
    "\n",
    "#pour les représentations graphiques\n",
    "import seaborn as sns\n",
    "import matplotlib.pyplot as plt\n",
    "import plotly.graph_objects as go\n",
    "\n",
    "#pour centrer-réduire\n",
    "from sklearn.preprocessing import MinMaxScaler, StandardScaler\n",
    "\n",
    "#pour les test statistiques\n",
    "from scipy.stats import ttest_ind, shapiro\n",
    "\n",
    "#pour les modèles non-supervisés\n",
    "from sklearn.decomposition import PCA\n",
    "from sklearn.cluster import KMeans\n",
    "\n",
    "#pour les modèles supervisés\n",
    "from sklearn.linear_model import LogisticRegression, LinearRegression\n",
    "from sklearn.model_selection import train_test_split\n",
    "\n",
    "#Pour évaluer les performances des modèles\n",
    "from sklearn.metrics import confusion_matrix, mean_squared_error, mean_absolute_percentage_error, accuracy_score, precision_score, recall_score, roc_auc_score, roc_curve\n",
    "from scipy.optimize import linear_sum_assignment"
   ]
  },
  {
   "cell_type": "code",
   "execution_count": 2,
   "id": "1555dc04-97c1-423f-81d4-f6da11d4fe9a",
   "metadata": {
    "tags": []
   },
   "outputs": [],
   "source": [
    "df_scaled = pd.read_csv(\"df_scaled_MinMaxScaler.csv\", sep=',')\n",
    "df = pd.read_csv(\"df.csv\", sep=',')"
   ]
  },
  {
   "cell_type": "markdown",
   "id": "7eacff50-857e-4281-b101-fd67b2261228",
   "metadata": {},
   "source": [
    "# Clustering"
   ]
  },
  {
   "cell_type": "markdown",
   "id": "9fdac8eb-fca1-4200-b757-8b69eb9857a1",
   "metadata": {
    "tags": []
   },
   "source": [
    "## Application du Kmeans"
   ]
  },
  {
   "cell_type": "code",
   "execution_count": 3,
   "id": "757e57b2-4f76-4452-9ad7-2c5c540df0e7",
   "metadata": {
    "tags": []
   },
   "outputs": [
    {
     "data": {
      "text/html": [
       "<div>\n",
       "<style scoped>\n",
       "    .dataframe tbody tr th:only-of-type {\n",
       "        vertical-align: middle;\n",
       "    }\n",
       "\n",
       "    .dataframe tbody tr th {\n",
       "        vertical-align: top;\n",
       "    }\n",
       "\n",
       "    .dataframe thead th {\n",
       "        text-align: right;\n",
       "    }\n",
       "</style>\n",
       "<table border=\"1\" class=\"dataframe\">\n",
       "  <thead>\n",
       "    <tr style=\"text-align: right;\">\n",
       "      <th></th>\n",
       "      <th>diagonal</th>\n",
       "      <th>height_left</th>\n",
       "      <th>height_right</th>\n",
       "      <th>margin_low</th>\n",
       "      <th>margin_up</th>\n",
       "      <th>length</th>\n",
       "    </tr>\n",
       "  </thead>\n",
       "  <tbody>\n",
       "    <tr>\n",
       "      <th>0</th>\n",
       "      <td>-0.486540</td>\n",
       "      <td>2.774123</td>\n",
       "      <td>3.163240</td>\n",
       "      <td>0.056440</td>\n",
       "      <td>-1.128325</td>\n",
       "      <td>0.173651</td>\n",
       "    </tr>\n",
       "    <tr>\n",
       "      <th>1</th>\n",
       "      <td>-1.633729</td>\n",
       "      <td>-2.236535</td>\n",
       "      <td>-0.799668</td>\n",
       "      <td>-1.080592</td>\n",
       "      <td>-0.696799</td>\n",
       "      <td>0.471666</td>\n",
       "    </tr>\n",
       "    <tr>\n",
       "      <th>2</th>\n",
       "      <td>2.397823</td>\n",
       "      <td>1.504756</td>\n",
       "      <td>-1.291191</td>\n",
       "      <td>-0.125486</td>\n",
       "      <td>-0.912562</td>\n",
       "      <td>0.551901</td>\n",
       "    </tr>\n",
       "    <tr>\n",
       "      <th>3</th>\n",
       "      <td>-1.961498</td>\n",
       "      <td>-0.399294</td>\n",
       "      <td>0.060498</td>\n",
       "      <td>-1.307998</td>\n",
       "      <td>-0.610494</td>\n",
       "      <td>0.953075</td>\n",
       "    </tr>\n",
       "    <tr>\n",
       "      <th>4</th>\n",
       "      <td>-0.748754</td>\n",
       "      <td>0.836669</td>\n",
       "      <td>-1.414072</td>\n",
       "      <td>-0.671261</td>\n",
       "      <td>1.417677</td>\n",
       "      <td>-0.158750</td>\n",
       "    </tr>\n",
       "  </tbody>\n",
       "</table>\n",
       "</div>"
      ],
      "text/plain": [
       "   diagonal  height_left  height_right  margin_low  margin_up    length\n",
       "0 -0.486540     2.774123      3.163240    0.056440  -1.128325  0.173651\n",
       "1 -1.633729    -2.236535     -0.799668   -1.080592  -0.696799  0.471666\n",
       "2  2.397823     1.504756     -1.291191   -0.125486  -0.912562  0.551901\n",
       "3 -1.961498    -0.399294      0.060498   -1.307998  -0.610494  0.953075\n",
       "4 -0.748754     0.836669     -1.414072   -0.671261   1.417677 -0.158750"
      ]
     },
     "execution_count": 3,
     "metadata": {},
     "output_type": "execute_result"
    }
   ],
   "source": [
    "#on supprime la colonne is_genuine\n",
    "df_kmeans = df_scaled.drop(columns='is_genuine')\n",
    "df_kmeans.head()"
   ]
  },
  {
   "cell_type": "markdown",
   "id": "c5d73e00-de58-480d-8d97-664ff914f0a2",
   "metadata": {},
   "source": [
    "Sachant que l'on cherche à dvisier nos individus selon 2 modalités (vrai/faux billet), j'effectue mon kmeans pour 2 clusters."
   ]
  },
  {
   "cell_type": "code",
   "execution_count": 4,
   "id": "603a5062-bb92-402c-b41a-8e441ec0b3a9",
   "metadata": {
    "tags": []
   },
   "outputs": [
    {
     "data": {
      "text/plain": [
       "array([1, 0, 0, ..., 1, 1, 1])"
      ]
     },
     "execution_count": 4,
     "metadata": {},
     "output_type": "execute_result"
    }
   ],
   "source": [
    "# On instancie notre Kmeans avec 2 clusters : \n",
    "kmeans = KMeans(n_clusters=2, random_state=42, n_init=10)\n",
    "\n",
    "# On l'entraine : \n",
    "kmeans.fit(df_kmeans)\n",
    "\n",
    "# On peut stocker nos clusters dans une variable labels : \n",
    "labels = kmeans.labels_\n",
    "labels"
   ]
  },
  {
   "cell_type": "code",
   "execution_count": 5,
   "id": "f1d6ea25-7cdb-496a-a2d3-0bf4032f93ee",
   "metadata": {
    "tags": []
   },
   "outputs": [
    {
     "data": {
      "text/html": [
       "<div>\n",
       "<style scoped>\n",
       "    .dataframe tbody tr th:only-of-type {\n",
       "        vertical-align: middle;\n",
       "    }\n",
       "\n",
       "    .dataframe tbody tr th {\n",
       "        vertical-align: top;\n",
       "    }\n",
       "\n",
       "    .dataframe thead th {\n",
       "        text-align: right;\n",
       "    }\n",
       "</style>\n",
       "<table border=\"1\" class=\"dataframe\">\n",
       "  <thead>\n",
       "    <tr style=\"text-align: right;\">\n",
       "      <th></th>\n",
       "      <th>diagonal</th>\n",
       "      <th>height_left</th>\n",
       "      <th>height_right</th>\n",
       "      <th>margin_low</th>\n",
       "      <th>margin_up</th>\n",
       "      <th>length</th>\n",
       "      <th>label_kmeans</th>\n",
       "      <th>is_genuine</th>\n",
       "    </tr>\n",
       "  </thead>\n",
       "  <tbody>\n",
       "    <tr>\n",
       "      <th>0</th>\n",
       "      <td>-0.486540</td>\n",
       "      <td>2.774123</td>\n",
       "      <td>3.163240</td>\n",
       "      <td>0.056440</td>\n",
       "      <td>-1.128325</td>\n",
       "      <td>0.173651</td>\n",
       "      <td>1</td>\n",
       "      <td>1</td>\n",
       "    </tr>\n",
       "    <tr>\n",
       "      <th>1</th>\n",
       "      <td>-1.633729</td>\n",
       "      <td>-2.236535</td>\n",
       "      <td>-0.799668</td>\n",
       "      <td>-1.080592</td>\n",
       "      <td>-0.696799</td>\n",
       "      <td>0.471666</td>\n",
       "      <td>0</td>\n",
       "      <td>1</td>\n",
       "    </tr>\n",
       "    <tr>\n",
       "      <th>2</th>\n",
       "      <td>2.397823</td>\n",
       "      <td>1.504756</td>\n",
       "      <td>-1.291191</td>\n",
       "      <td>-0.125486</td>\n",
       "      <td>-0.912562</td>\n",
       "      <td>0.551901</td>\n",
       "      <td>0</td>\n",
       "      <td>1</td>\n",
       "    </tr>\n",
       "    <tr>\n",
       "      <th>3</th>\n",
       "      <td>-1.961498</td>\n",
       "      <td>-0.399294</td>\n",
       "      <td>0.060498</td>\n",
       "      <td>-1.307998</td>\n",
       "      <td>-0.610494</td>\n",
       "      <td>0.953075</td>\n",
       "      <td>0</td>\n",
       "      <td>1</td>\n",
       "    </tr>\n",
       "    <tr>\n",
       "      <th>4</th>\n",
       "      <td>-0.748754</td>\n",
       "      <td>0.836669</td>\n",
       "      <td>-1.414072</td>\n",
       "      <td>-0.671261</td>\n",
       "      <td>1.417677</td>\n",
       "      <td>-0.158750</td>\n",
       "      <td>0</td>\n",
       "      <td>1</td>\n",
       "    </tr>\n",
       "  </tbody>\n",
       "</table>\n",
       "</div>"
      ],
      "text/plain": [
       "   diagonal  height_left  height_right  margin_low  margin_up    length  \\\n",
       "0 -0.486540     2.774123      3.163240    0.056440  -1.128325  0.173651   \n",
       "1 -1.633729    -2.236535     -0.799668   -1.080592  -0.696799  0.471666   \n",
       "2  2.397823     1.504756     -1.291191   -0.125486  -0.912562  0.551901   \n",
       "3 -1.961498    -0.399294      0.060498   -1.307998  -0.610494  0.953075   \n",
       "4 -0.748754     0.836669     -1.414072   -0.671261   1.417677 -0.158750   \n",
       "\n",
       "   label_kmeans  is_genuine  \n",
       "0             1           1  \n",
       "1             0           1  \n",
       "2             0           1  \n",
       "3             0           1  \n",
       "4             0           1  "
      ]
     },
     "execution_count": 5,
     "metadata": {},
     "output_type": "execute_result"
    }
   ],
   "source": [
    "#creer une colonne pour mettre les clusters generés et ré-intégrer la colonne is_genuine\n",
    "df_kmeans['label_kmeans'] = labels\n",
    "df_kmeans['is_genuine'] = df['is_genuine']\n",
    "df_kmeans.head()"
   ]
  },
  {
   "cell_type": "code",
   "execution_count": 6,
   "id": "b885e9ce-1dea-4015-9a12-fe69d20b789f",
   "metadata": {
    "tags": []
   },
   "outputs": [
    {
     "data": {
      "text/plain": [
       "0    1004\n",
       "1     496\n",
       "Name: label_kmeans, dtype: int64"
      ]
     },
     "execution_count": 6,
     "metadata": {},
     "output_type": "execute_result"
    }
   ],
   "source": [
    "df_kmeans['label_kmeans'].value_counts()"
   ]
  },
  {
   "cell_type": "markdown",
   "id": "4c7f9c7a-d309-4d84-a9c8-212bea2abf48",
   "metadata": {},
   "source": [
    "## Tableau de contingence"
   ]
  },
  {
   "cell_type": "markdown",
   "id": "d735931e-bc21-44b0-9dcb-a47794c6e1a0",
   "metadata": {
    "tags": []
   },
   "source": [
    "A cette étape, nous voulons nous assurer que chaque cluster obtenu avec le kmeans correspond bien à la même catégorie de la colonne is_genuine."
   ]
  },
  {
   "cell_type": "code",
   "execution_count": 7,
   "id": "5d614ca1-09ab-4b17-8c38-f6770b4ee03c",
   "metadata": {
    "tags": []
   },
   "outputs": [],
   "source": [
    "#Création des listes de clusters\n",
    "list_label_is_genuine = list(int(label) for label in df_kmeans['is_genuine'])\n",
    "list_label_kmeans = list(int(label) for label in df_kmeans['label_kmeans'])"
   ]
  },
  {
   "cell_type": "code",
   "execution_count": 8,
   "id": "fd2a1090-aaea-4c51-8ec5-935188292808",
   "metadata": {
    "tags": []
   },
   "outputs": [],
   "source": [
    "# Je crée une matrice de confusion entre les deux clusterings\n",
    "conf_mat = confusion_matrix(list_label_is_genuine, list_label_kmeans)\n",
    "\n",
    "# Je cherche l’appariement optimal\n",
    "row_ind, col_ind = linear_sum_assignment(-conf_mat)  # le \"-\" car c'est un problème de maximisation\n",
    "\n",
    "# Je crée un mapping entre les labels\n",
    "label_mapping = {col: row for row, col in zip(row_ind, col_ind)}\n",
    "\n",
    "# Je recalibre les labels KMeans\n",
    "aligned_kmeans_labels = np.array([label_mapping[label] for label in list_label_kmeans])\n",
    "\n",
    "#j'attribue les nouveaux clusters\n",
    "df_kmeans['label_kmeans'] = aligned_kmeans_labels"
   ]
  },
  {
   "cell_type": "code",
   "execution_count": 9,
   "id": "eb821415-af99-47f9-b65f-e25d536cd3fe",
   "metadata": {
    "tags": []
   },
   "outputs": [
    {
     "data": {
      "text/plain": [
       "1    1004\n",
       "0     496\n",
       "Name: label_kmeans, dtype: int64"
      ]
     },
     "execution_count": 9,
     "metadata": {},
     "output_type": "execute_result"
    }
   ],
   "source": [
    "df_kmeans['label_kmeans'].value_counts()"
   ]
  },
  {
   "cell_type": "code",
   "execution_count": 10,
   "id": "229822fb-6eb7-4b1e-9b5c-a5323ec66e14",
   "metadata": {
    "tags": []
   },
   "outputs": [
    {
     "data": {
      "text/plain": [
       "array([[486,  14],\n",
       "       [ 10, 990]], dtype=int64)"
      ]
     },
     "execution_count": 10,
     "metadata": {},
     "output_type": "execute_result"
    }
   ],
   "source": [
    "y_pred = df_kmeans['label_kmeans'].astype(int)\n",
    "y_true = df_kmeans['is_genuine'].astype(int)\n",
    "\n",
    "# Puis affiche la matrice\n",
    "cm = confusion_matrix(y_true, y_pred)\n",
    "cm"
   ]
  },
  {
   "cell_type": "raw",
   "id": "2df1f4d5-a368-4ca1-a126-8b676f7dee09",
   "metadata": {},
   "source": [
    "-12 faux positifs (faux billets classés comme vrais billets par le kmeans)\n",
    "-7 faux négatifs (vrais billets classés comme faux billets par le kmeans)"
   ]
  },
  {
   "cell_type": "code",
   "execution_count": 11,
   "id": "49e038ff-728c-4985-9b93-31765aa4b69a",
   "metadata": {
    "tags": []
   },
   "outputs": [
    {
     "data": {
      "text/plain": [
       "diagonal        14\n",
       "height_left     14\n",
       "height_right    14\n",
       "margin_low      14\n",
       "margin_up       14\n",
       "length          14\n",
       "label_kmeans    14\n",
       "is_genuine      14\n",
       "dtype: int64"
      ]
     },
     "execution_count": 11,
     "metadata": {},
     "output_type": "execute_result"
    }
   ],
   "source": [
    "df_kmeans.loc[(df_kmeans['label_kmeans'] == 1) & (df_kmeans['is_genuine'] == 0)].count()"
   ]
  },
  {
   "cell_type": "code",
   "execution_count": 12,
   "id": "e1f4a452-6f54-4d8e-86ea-8e038c5e4f03",
   "metadata": {
    "tags": []
   },
   "outputs": [
    {
     "data": {
      "text/plain": [
       "diagonal        10\n",
       "height_left     10\n",
       "height_right    10\n",
       "margin_low      10\n",
       "margin_up       10\n",
       "length          10\n",
       "label_kmeans    10\n",
       "is_genuine      10\n",
       "dtype: int64"
      ]
     },
     "execution_count": 12,
     "metadata": {},
     "output_type": "execute_result"
    }
   ],
   "source": [
    "df_kmeans.loc[(df_kmeans['label_kmeans'] == 0) & (df_kmeans['is_genuine'] == 1)].count()"
   ]
  },
  {
   "cell_type": "markdown",
   "id": "f1cd9870-c6a3-4b1e-894f-efb82b75fc5e",
   "metadata": {
    "tags": []
   },
   "source": [
    "## Calcul des centroïdes"
   ]
  },
  {
   "cell_type": "code",
   "execution_count": 13,
   "id": "e5a5b604-c661-4730-b937-c3051328d99b",
   "metadata": {
    "tags": []
   },
   "outputs": [
    {
     "data": {
      "text/html": [
       "<div>\n",
       "<style scoped>\n",
       "    .dataframe tbody tr th:only-of-type {\n",
       "        vertical-align: middle;\n",
       "    }\n",
       "\n",
       "    .dataframe tbody tr th {\n",
       "        vertical-align: top;\n",
       "    }\n",
       "\n",
       "    .dataframe thead th {\n",
       "        text-align: right;\n",
       "    }\n",
       "</style>\n",
       "<table border=\"1\" class=\"dataframe\">\n",
       "  <thead>\n",
       "    <tr style=\"text-align: right;\">\n",
       "      <th></th>\n",
       "      <th>diagonal</th>\n",
       "      <th>height_left</th>\n",
       "      <th>height_right</th>\n",
       "      <th>margin_low</th>\n",
       "      <th>margin_up</th>\n",
       "      <th>length</th>\n",
       "    </tr>\n",
       "    <tr>\n",
       "      <th>label_kmeans</th>\n",
       "      <th></th>\n",
       "      <th></th>\n",
       "      <th></th>\n",
       "      <th></th>\n",
       "      <th></th>\n",
       "      <th></th>\n",
       "    </tr>\n",
       "  </thead>\n",
       "  <tbody>\n",
       "    <tr>\n",
       "      <th>0</th>\n",
       "      <td>-0.194323</td>\n",
       "      <td>0.570713</td>\n",
       "      <td>0.713365</td>\n",
       "      <td>1.120167</td>\n",
       "      <td>0.864176</td>\n",
       "      <td>-1.200833</td>\n",
       "    </tr>\n",
       "    <tr>\n",
       "      <th>1</th>\n",
       "      <td>0.096000</td>\n",
       "      <td>-0.281946</td>\n",
       "      <td>-0.352419</td>\n",
       "      <td>-0.553389</td>\n",
       "      <td>-0.426924</td>\n",
       "      <td>0.593240</td>\n",
       "    </tr>\n",
       "  </tbody>\n",
       "</table>\n",
       "</div>"
      ],
      "text/plain": [
       "              diagonal  height_left  height_right  margin_low  margin_up  \\\n",
       "label_kmeans                                                               \n",
       "0            -0.194323     0.570713      0.713365    1.120167   0.864176   \n",
       "1             0.096000    -0.281946     -0.352419   -0.553389  -0.426924   \n",
       "\n",
       "                length  \n",
       "label_kmeans            \n",
       "0            -1.200833  \n",
       "1             0.593240  "
      ]
     },
     "execution_count": 13,
     "metadata": {},
     "output_type": "execute_result"
    }
   ],
   "source": [
    "df_kmeans.drop(columns='is_genuine', inplace=True)\n",
    "mean_values_kmeans = df_kmeans.groupby('label_kmeans').mean()\n",
    "mean_values_kmeans"
   ]
  },
  {
   "cell_type": "markdown",
   "id": "9471fd82-eda8-4210-b71e-aa3545e76b7b",
   "metadata": {},
   "source": [
    "## Exemple avec un nouveau billet"
   ]
  },
  {
   "cell_type": "code",
   "execution_count": 14,
   "id": "e59cdfa4-d8ea-4742-b22a-8a0eb6a05673",
   "metadata": {
    "tags": []
   },
   "outputs": [],
   "source": [
    "nouveau_billet = np.array([[0.48, 0.46, 0.46, 0.28, 0.48, 0.75]])"
   ]
  },
  {
   "cell_type": "code",
   "execution_count": 15,
   "id": "f857f5a3-23ad-49f7-b19e-ec94fb444cf2",
   "metadata": {
    "tags": []
   },
   "outputs": [
    {
     "name": "stderr",
     "output_type": "stream",
     "text": [
      "C:\\Users\\Pauline NANDELEC\\anaconda3\\Lib\\site-packages\\sklearn\\utils\\validation.py:2739: UserWarning: X does not have valid feature names, but KMeans was fitted with feature names\n",
      "  warnings.warn(\n"
     ]
    }
   ],
   "source": [
    "# Prédiction du cluster\n",
    "cluster = kmeans.predict(nouveau_billet)"
   ]
  },
  {
   "cell_type": "code",
   "execution_count": 16,
   "id": "94364c5b-b6e8-4287-be16-bf7c2c8ef62d",
   "metadata": {
    "tags": []
   },
   "outputs": [
    {
     "data": {
      "text/plain": [
       "array([0])"
      ]
     },
     "execution_count": 16,
     "metadata": {},
     "output_type": "execute_result"
    }
   ],
   "source": [
    "cluster"
   ]
  },
  {
   "cell_type": "markdown",
   "id": "824f161a-4698-4a40-a99b-442fd80a58a4",
   "metadata": {},
   "source": [
    "Sachant que lors de l'entrainement de Kmeans, 0 correspondant aux vrais billets et 1 aux faux billets, ce billet est vrai."
   ]
  },
  {
   "cell_type": "markdown",
   "id": "de83a807-1610-4ee5-97bd-d003f24b5440",
   "metadata": {},
   "source": [
    "# Régression logistique"
   ]
  },
  {
   "cell_type": "raw",
   "id": "1e721ab3-8626-4d5a-9fea-fa374b3151e7",
   "metadata": {},
   "source": [
    "-instanciation model\n",
    "-définition X et y\n",
    "-vaildation croisé\n",
    "-séparation train/test\n",
    "-entrainement model\n",
    "-mesure performances"
   ]
  },
  {
   "cell_type": "code",
   "execution_count": 17,
   "id": "f245bcf8-6333-4d71-bdc1-1a6008dccd7f",
   "metadata": {
    "tags": []
   },
   "outputs": [
    {
     "data": {
      "text/html": [
       "<div>\n",
       "<style scoped>\n",
       "    .dataframe tbody tr th:only-of-type {\n",
       "        vertical-align: middle;\n",
       "    }\n",
       "\n",
       "    .dataframe tbody tr th {\n",
       "        vertical-align: top;\n",
       "    }\n",
       "\n",
       "    .dataframe thead th {\n",
       "        text-align: right;\n",
       "    }\n",
       "</style>\n",
       "<table border=\"1\" class=\"dataframe\">\n",
       "  <thead>\n",
       "    <tr style=\"text-align: right;\">\n",
       "      <th></th>\n",
       "      <th>is_genuine</th>\n",
       "      <th>diagonal</th>\n",
       "      <th>height_left</th>\n",
       "      <th>height_right</th>\n",
       "      <th>margin_low</th>\n",
       "      <th>margin_up</th>\n",
       "      <th>length</th>\n",
       "    </tr>\n",
       "  </thead>\n",
       "  <tbody>\n",
       "    <tr>\n",
       "      <th>0</th>\n",
       "      <td>1</td>\n",
       "      <td>-0.486540</td>\n",
       "      <td>2.774123</td>\n",
       "      <td>3.163240</td>\n",
       "      <td>0.056440</td>\n",
       "      <td>-1.128325</td>\n",
       "      <td>0.173651</td>\n",
       "    </tr>\n",
       "    <tr>\n",
       "      <th>1</th>\n",
       "      <td>1</td>\n",
       "      <td>-1.633729</td>\n",
       "      <td>-2.236535</td>\n",
       "      <td>-0.799668</td>\n",
       "      <td>-1.080592</td>\n",
       "      <td>-0.696799</td>\n",
       "      <td>0.471666</td>\n",
       "    </tr>\n",
       "    <tr>\n",
       "      <th>2</th>\n",
       "      <td>1</td>\n",
       "      <td>2.397823</td>\n",
       "      <td>1.504756</td>\n",
       "      <td>-1.291191</td>\n",
       "      <td>-0.125486</td>\n",
       "      <td>-0.912562</td>\n",
       "      <td>0.551901</td>\n",
       "    </tr>\n",
       "    <tr>\n",
       "      <th>3</th>\n",
       "      <td>1</td>\n",
       "      <td>-1.961498</td>\n",
       "      <td>-0.399294</td>\n",
       "      <td>0.060498</td>\n",
       "      <td>-1.307998</td>\n",
       "      <td>-0.610494</td>\n",
       "      <td>0.953075</td>\n",
       "    </tr>\n",
       "    <tr>\n",
       "      <th>4</th>\n",
       "      <td>1</td>\n",
       "      <td>-0.748754</td>\n",
       "      <td>0.836669</td>\n",
       "      <td>-1.414072</td>\n",
       "      <td>-0.671261</td>\n",
       "      <td>1.417677</td>\n",
       "      <td>-0.158750</td>\n",
       "    </tr>\n",
       "  </tbody>\n",
       "</table>\n",
       "</div>"
      ],
      "text/plain": [
       "   is_genuine  diagonal  height_left  height_right  margin_low  margin_up  \\\n",
       "0           1 -0.486540     2.774123      3.163240    0.056440  -1.128325   \n",
       "1           1 -1.633729    -2.236535     -0.799668   -1.080592  -0.696799   \n",
       "2           1  2.397823     1.504756     -1.291191   -0.125486  -0.912562   \n",
       "3           1 -1.961498    -0.399294      0.060498   -1.307998  -0.610494   \n",
       "4           1 -0.748754     0.836669     -1.414072   -0.671261   1.417677   \n",
       "\n",
       "     length  \n",
       "0  0.173651  \n",
       "1  0.471666  \n",
       "2  0.551901  \n",
       "3  0.953075  \n",
       "4 -0.158750  "
      ]
     },
     "execution_count": 17,
     "metadata": {},
     "output_type": "execute_result"
    }
   ],
   "source": [
    "df_scaled.head()"
   ]
  },
  {
   "cell_type": "code",
   "execution_count": 18,
   "id": "d6192463-99ff-4da6-b41a-eb0f9235566c",
   "metadata": {
    "tags": []
   },
   "outputs": [
    {
     "data": {
      "text/html": [
       "<div>\n",
       "<style scoped>\n",
       "    .dataframe tbody tr th:only-of-type {\n",
       "        vertical-align: middle;\n",
       "    }\n",
       "\n",
       "    .dataframe tbody tr th {\n",
       "        vertical-align: top;\n",
       "    }\n",
       "\n",
       "    .dataframe thead th {\n",
       "        text-align: right;\n",
       "    }\n",
       "</style>\n",
       "<table border=\"1\" class=\"dataframe\">\n",
       "  <thead>\n",
       "    <tr style=\"text-align: right;\">\n",
       "      <th></th>\n",
       "      <th>is_genuine</th>\n",
       "      <th>diagonal</th>\n",
       "      <th>height_left</th>\n",
       "      <th>height_right</th>\n",
       "      <th>margin_low</th>\n",
       "      <th>margin_up</th>\n",
       "      <th>length</th>\n",
       "    </tr>\n",
       "  </thead>\n",
       "  <tbody>\n",
       "    <tr>\n",
       "      <th>1000</th>\n",
       "      <td>0</td>\n",
       "      <td>1.053972</td>\n",
       "      <td>-0.265676</td>\n",
       "      <td>-0.031662</td>\n",
       "      <td>0.450610</td>\n",
       "      <td>0.684084</td>\n",
       "      <td>-1.465432</td>\n",
       "    </tr>\n",
       "    <tr>\n",
       "      <th>1001</th>\n",
       "      <td>0</td>\n",
       "      <td>-0.125994</td>\n",
       "      <td>-0.566316</td>\n",
       "      <td>1.166426</td>\n",
       "      <td>0.723498</td>\n",
       "      <td>-0.092663</td>\n",
       "      <td>-1.591516</td>\n",
       "    </tr>\n",
       "    <tr>\n",
       "      <th>1002</th>\n",
       "      <td>0</td>\n",
       "      <td>-1.207630</td>\n",
       "      <td>0.369007</td>\n",
       "      <td>1.412188</td>\n",
       "      <td>0.738658</td>\n",
       "      <td>1.374525</td>\n",
       "      <td>-1.671750</td>\n",
       "    </tr>\n",
       "    <tr>\n",
       "      <th>1003</th>\n",
       "      <td>0</td>\n",
       "      <td>0.201774</td>\n",
       "      <td>1.003691</td>\n",
       "      <td>1.258587</td>\n",
       "      <td>1.072188</td>\n",
       "      <td>0.252558</td>\n",
       "      <td>-0.789167</td>\n",
       "    </tr>\n",
       "    <tr>\n",
       "      <th>1004</th>\n",
       "      <td>0</td>\n",
       "      <td>1.938947</td>\n",
       "      <td>0.736455</td>\n",
       "      <td>0.951385</td>\n",
       "      <td>1.693765</td>\n",
       "      <td>-0.092663</td>\n",
       "      <td>-1.098644</td>\n",
       "    </tr>\n",
       "  </tbody>\n",
       "</table>\n",
       "</div>"
      ],
      "text/plain": [
       "      is_genuine  diagonal  height_left  height_right  margin_low  margin_up  \\\n",
       "1000           0  1.053972    -0.265676     -0.031662    0.450610   0.684084   \n",
       "1001           0 -0.125994    -0.566316      1.166426    0.723498  -0.092663   \n",
       "1002           0 -1.207630     0.369007      1.412188    0.738658   1.374525   \n",
       "1003           0  0.201774     1.003691      1.258587    1.072188   0.252558   \n",
       "1004           0  1.938947     0.736455      0.951385    1.693765  -0.092663   \n",
       "\n",
       "        length  \n",
       "1000 -1.465432  \n",
       "1001 -1.591516  \n",
       "1002 -1.671750  \n",
       "1003 -0.789167  \n",
       "1004 -1.098644  "
      ]
     },
     "execution_count": 18,
     "metadata": {},
     "output_type": "execute_result"
    }
   ],
   "source": [
    "df_scaled.loc[df_scaled['is_genuine'] == 0].head()"
   ]
  },
  {
   "cell_type": "markdown",
   "id": "dfbbc7fd-dcf7-4e7a-b8fa-df2aabeb94bf",
   "metadata": {},
   "source": [
    "## Entraînement du modèle"
   ]
  },
  {
   "cell_type": "code",
   "execution_count": 19,
   "id": "2c3454fb-cddf-4e73-be14-929e96b99f7d",
   "metadata": {
    "tags": []
   },
   "outputs": [],
   "source": [
    "#définition X et y\n",
    "X = df_scaled.drop(columns='is_genuine').to_numpy()\n",
    "y = df_scaled['is_genuine'].to_numpy()"
   ]
  },
  {
   "cell_type": "code",
   "execution_count": 20,
   "id": "72d498a3-0908-4833-95ac-6f88b8489b1c",
   "metadata": {
    "tags": []
   },
   "outputs": [],
   "source": [
    "#séparation train/test\n",
    "X_train, X_test, y_train, y_test = train_test_split(X, y, test_size=0.20, random_state=42)"
   ]
  },
  {
   "cell_type": "code",
   "execution_count": 21,
   "id": "f9098320-b184-41c1-926c-cde9d6ec7160",
   "metadata": {
    "tags": []
   },
   "outputs": [],
   "source": [
    "#initialisation et entraînement du modèle\n",
    "clf = LogisticRegression(random_state=808).fit(X_train, y_train)"
   ]
  },
  {
   "cell_type": "code",
   "execution_count": 22,
   "id": "811759bd-220a-4f51-a267-8bb141b88877",
   "metadata": {
    "tags": []
   },
   "outputs": [
    {
     "name": "stdout",
     "output_type": "stream",
     "text": [
      "Prédiction 0\n",
      "Probabilité 0.9947710083364288\n"
     ]
    }
   ],
   "source": [
    "# Prediction d'un échantillon\n",
    "print(\"Prédiction\",clf.predict([X[1000, :]])[0])\n",
    "\n",
    "print(\"Probabilité\",clf.predict_proba([X[1000, :]])[0][0])"
   ]
  },
  {
   "cell_type": "markdown",
   "id": "fb4a80f7-851d-4624-bd15-92ff36629d0f",
   "metadata": {},
   "source": [
    "Soit 82.51 % de chance d'appartenir à la classe 0."
   ]
  },
  {
   "cell_type": "code",
   "execution_count": 23,
   "id": "1d70e55e-1683-4b9f-89b7-7747b40a61e0",
   "metadata": {
    "tags": []
   },
   "outputs": [
    {
     "name": "stdout",
     "output_type": "stream",
     "text": [
      "Classe réelle du billet:  0\n"
     ]
    }
   ],
   "source": [
    "print(\"Classe réelle du billet: \", y[1000])"
   ]
  },
  {
   "cell_type": "code",
   "execution_count": 24,
   "id": "4e80a932-c63c-4ef8-bbd4-8306571df75e",
   "metadata": {
    "tags": []
   },
   "outputs": [
    {
     "name": "stdout",
     "output_type": "stream",
     "text": [
      "Prédiction 1\n",
      "Probabilité 0.372361045438905\n"
     ]
    }
   ],
   "source": [
    "# Prediction d'un échantillon\n",
    "print(\"Prédiction\",clf.predict([X[0, :]])[0])\n",
    "\n",
    "print(\"Probabilité\",clf.predict_proba([X[0, :]])[0][0])"
   ]
  },
  {
   "cell_type": "markdown",
   "id": "d2049900-7c98-47e2-9447-a3b6c5ffd28f",
   "metadata": {},
   "source": [
    "Soit 54.83 % de chance d'appartenir à la classe 0."
   ]
  },
  {
   "cell_type": "code",
   "execution_count": 25,
   "id": "349bdfed-9685-4122-92f6-7fdc992661c2",
   "metadata": {
    "tags": []
   },
   "outputs": [
    {
     "name": "stdout",
     "output_type": "stream",
     "text": [
      "Classe réelle du billet:  1\n"
     ]
    }
   ],
   "source": [
    "print(\"Classe réelle du billet: \", y[0])"
   ]
  },
  {
   "cell_type": "markdown",
   "id": "02a2ceeb-8646-4e21-8b0f-86d5da8e4104",
   "metadata": {},
   "source": [
    "## Mesures de perfomance"
   ]
  },
  {
   "cell_type": "code",
   "execution_count": 26,
   "id": "ee5d7fde-b392-4b41-a616-dc429dca5f6d",
   "metadata": {
    "tags": []
   },
   "outputs": [
    {
     "data": {
      "text/plain": [
       "<Axes: ylabel='Count'>"
      ]
     },
     "execution_count": 26,
     "metadata": {},
     "output_type": "execute_result"
    },
    {
     "data": {
      "image/png": "[encoded data removed]",
      "text/plain": [
       "<Figure size 640x480 with 1 Axes>"
      ]
     },
     "metadata": {},
     "output_type": "display_data"
    }
   ],
   "source": [
    "#histogramme des probabilités de prédiction\n",
    "y_hat_proba = clf.predict_proba(X_test)[:,1]\n",
    "sns.histplot(y_hat_proba)"
   ]
  },
  {
   "cell_type": "markdown",
   "id": "0b0bcba8-838e-4ab8-a9f7-ede4eec1d97d",
   "metadata": {},
   "source": [
    "Le modèle est assez confiant de ses prédiction, la plupart des prédictions ont une probabilité proche de 0 ou de 1"
   ]
  },
  {
   "cell_type": "code",
   "execution_count": 27,
   "id": "c4915349-1b26-4e58-a601-a3d976dabe41",
   "metadata": {
    "tags": []
   },
   "outputs": [
    {
     "name": "stdout",
     "output_type": "stream",
     "text": [
      "accuracy 0.9933333333333333\n"
     ]
    }
   ],
   "source": [
    "#Accuracy \n",
    "y_pred = clf.predict(X_test)\n",
    "\n",
    "print(\"accuracy\",accuracy_score(y_test, y_pred))"
   ]
  },
  {
   "cell_type": "markdown",
   "id": "451857f7-34d6-4e52-a074-a3271dd94632",
   "metadata": {},
   "source": [
    "L'accuracy mesure le nombre d'échantillons qui ont été bien classés sur le nombre d'échantillons total. 98.7% est un très bon score."
   ]
  },
  {
   "cell_type": "code",
   "execution_count": 28,
   "id": "959213d0-bbc8-4f34-9913-be51d2053be8",
   "metadata": {
    "tags": []
   },
   "outputs": [
    {
     "data": {
      "text/plain": [
       "array([[108,   2],\n",
       "       [  0, 190]], dtype=int64)"
      ]
     },
     "execution_count": 28,
     "metadata": {},
     "output_type": "execute_result"
    }
   ],
   "source": [
    "#matrice de confusion\n",
    "\n",
    "confusion_matrix(y_test, y_pred)"
   ]
  },
  {
   "cell_type": "markdown",
   "id": "e7f4fa6c-4aff-4cf3-b375-1e303e2be64e",
   "metadata": {},
   "source": [
    "4 faux positifs (faux billets classés comme vrais billets)"
   ]
  },
  {
   "cell_type": "markdown",
   "id": "9fcea193-ad5c-4ce3-b60a-0cbbcf70173d",
   "metadata": {},
   "source": [
    "## Test avec d'autres seuils de classification"
   ]
  },
  {
   "cell_type": "markdown",
   "id": "14ddb3ea-d18b-49ac-91cd-85be7559a9ef",
   "metadata": {},
   "source": [
    "Dans le cas de la détection de fraude, il y a un fort déséquilibre entre les cas positifs et les cas négatifs dans le dataset.\n",
    "On obtient ici une accuracy de 98.7% mais il faut faire intervenir d'autres métriques de classification adaptées à ce type de situation pour adapter notre modèle."
   ]
  },
  {
   "cell_type": "raw",
   "id": "a0816986-8dbd-4f90-a1c2-f75cc571c84a",
   "metadata": {},
   "source": [
    "Les scores obtenus sont dépendants du seuil de classification.\n",
    "Par défaut, on considère un seuil de  t=0.5: si la probabilité prédite <0.5, alors la prédiction est la catégorie 0, sinon 1. \n",
    "Mais on peut considérer d'autres valeurs pour ce seuil. Comparons les résultats obtenus pour 2 autres seuils. Par exemple t=0.3 et t=0.7.\n",
    "Pour obtenir les catégories prédites avec ces seuils, on part des probabilités prédites par le modèle :"
   ]
  },
  {
   "cell_type": "code",
   "execution_count": 29,
   "id": "fa63e0af-dca7-4cc4-8a5d-b39ef712ea0d",
   "metadata": {
    "tags": []
   },
   "outputs": [],
   "source": [
    "y_hat_proba = clf.predict_proba(X_test)[:,1]"
   ]
  },
  {
   "cell_type": "code",
   "execution_count": 30,
   "id": "8ebbdd96-2429-4651-a2ad-9829673b0f65",
   "metadata": {
    "tags": []
   },
   "outputs": [],
   "source": [
    "#On obtient les catégories relatives pour les 2 seuils :\n",
    "y_pred_03 = [ 0 if value < 0.3 else 1 for value in y_hat_proba ]\n",
    "y_pred_07 = [ 0 if value < 0.7 else 1 for value in y_hat_proba ]"
   ]
  },
  {
   "cell_type": "code",
   "execution_count": 31,
   "id": "e6c496db-778c-4f81-b961-88df770c0ab3",
   "metadata": {
    "tags": []
   },
   "outputs": [
    {
     "data": {
      "text/plain": [
       "array([[105,   5],\n",
       "       [  0, 190]], dtype=int64)"
      ]
     },
     "execution_count": 31,
     "metadata": {},
     "output_type": "execute_result"
    }
   ],
   "source": [
    "#On a alors les matrices de confusion suivantes :\n",
    "\n",
    "#pour 0.3:\n",
    "confusion_matrix(y_test, y_pred_03)"
   ]
  },
  {
   "cell_type": "markdown",
   "id": "f1a77469-51b3-4b0c-bbca-555558c13e0d",
   "metadata": {
    "tags": []
   },
   "source": [
    "12 faux positifs (faux billets classés comme vrais billets)"
   ]
  },
  {
   "cell_type": "code",
   "execution_count": 32,
   "id": "d3484f06-b174-49a9-9bd9-965911bc40f8",
   "metadata": {
    "tags": []
   },
   "outputs": [
    {
     "data": {
      "text/plain": [
       "array([[109,   1],\n",
       "       [  2, 188]], dtype=int64)"
      ]
     },
     "execution_count": 32,
     "metadata": {},
     "output_type": "execute_result"
    }
   ],
   "source": [
    "#pour 0.7:\n",
    "confusion_matrix(y_test, y_pred_07)"
   ]
  },
  {
   "cell_type": "markdown",
   "id": "77933ebe-6b98-404b-82a4-31fb4e24adde",
   "metadata": {},
   "source": [
    "1 faux positif (faux billet classé comme vrai) et 3 faux négatifs (vrais billets classés comme faux)"
   ]
  },
  {
   "cell_type": "code",
   "execution_count": 33,
   "id": "2ecd5651-1997-44b3-a246-14f1de269337",
   "metadata": {
    "tags": []
   },
   "outputs": [
    {
     "name": "stdout",
     "output_type": "stream",
     "text": [
      "Accuracy: 0.9933333333333333\n",
      "Precision: 0.9895833333333334\n",
      "Recall: 1.0\n"
     ]
    }
   ],
   "source": [
    "#Autres métriques de classification\n",
    "print(\"Accuracy:\",accuracy_score(y_test, y_pred))\n",
    "print(\"Precision:\",precision_score(y_test, y_pred))\n",
    "print(\"Recall:\",recall_score(y_test, y_pred))"
   ]
  },
  {
   "cell_type": "code",
   "execution_count": 34,
   "id": "9782c09d-f8df-475b-a6f5-ea5292493bba",
   "metadata": {
    "tags": []
   },
   "outputs": [
    {
     "name": "stdout",
     "output_type": "stream",
     "text": [
      "Accuracy: 0.9833333333333333\n",
      "Precision: 0.9743589743589743\n",
      "Recall: 1.0\n"
     ]
    }
   ],
   "source": [
    "print(\"Accuracy:\",accuracy_score(y_test, y_pred_03))\n",
    "print(\"Precision:\",precision_score(y_test, y_pred_03))\n",
    "print(\"Recall:\",recall_score(y_test, y_pred_03))"
   ]
  },
  {
   "cell_type": "code",
   "execution_count": 35,
   "id": "ed90c60e-58f3-4d43-8a82-0d74186fde71",
   "metadata": {
    "tags": []
   },
   "outputs": [
    {
     "name": "stdout",
     "output_type": "stream",
     "text": [
      "Accuracy: 0.99\n",
      "Precision: 0.9947089947089947\n",
      "Recall: 0.9894736842105263\n"
     ]
    }
   ],
   "source": [
    "print(\"Accuracy:\",accuracy_score(y_test, y_pred_07))\n",
    "print(\"Precision:\",precision_score(y_test, y_pred_07))\n",
    "print(\"Recall:\",recall_score(y_test, y_pred_07))"
   ]
  },
  {
   "cell_type": "raw",
   "id": "d40098f6-af14-4ce8-b159-590ce37f2cdd",
   "metadata": {},
   "source": [
    "Interprétation:\n",
    "-un seuil de classification + bas (0.3) diminue la précision donc la capacité à minimiser les faux positifs ainsi que l'accuracy cad échantillons bien classés / échantillons au total\n",
    "-un seuil de classfication + haut (0.7) augmente la précision donc la capacité à minimiser les faux positifs, diminue le recall cad la capacité à minimiser les faux positifs et conserve une accuracy égale au seuil de classification par défaut (0.5).\n",
    "\n",
    "Dans notre contexte, on cherche à diminuer les faux positifs, un seuil de classification élevé est donc plus adapté."
   ]
  },
  {
   "cell_type": "code",
   "execution_count": 36,
   "id": "f35e762e-dadf-4af3-ac5c-f89c862d4308",
   "metadata": {
    "tags": []
   },
   "outputs": [
    {
     "data": {
      "text/plain": [
       "Text(0.5, 1.0, 'ROC curve 0.5')"
      ]
     },
     "execution_count": 36,
     "metadata": {},
     "output_type": "execute_result"
    },
    {
     "data": {
      "image/png": "[encoded data removed]",
      "text/plain": [
       "<Figure size 640x480 with 1 Axes>"
      ]
     },
     "metadata": {},
     "output_type": "display_data"
    }
   ],
   "source": [
    "#On peut tracer la courbe ROC pour visualiser cela.\n",
    "\n",
    "#Pour seuil de classification = 0.5\n",
    "fpr, tpr, thresholds = roc_curve(y_test, y_hat_proba)\n",
    "plt.plot(fpr, tpr)\n",
    "plt.title(\"ROC curve 0.5\")"
   ]
  },
  {
   "cell_type": "code",
   "execution_count": 37,
   "id": "542d38a2-a44b-4c40-a657-46aaa2626546",
   "metadata": {
    "tags": []
   },
   "outputs": [
    {
     "data": {
      "text/plain": [
       "Text(0.5, 1.0, 'ROC curve 0.3')"
      ]
     },
     "execution_count": 37,
     "metadata": {},
     "output_type": "execute_result"
    },
    {
     "data": {
      "image/png": "[encoded data removed]",
      "text/plain": [
       "<Figure size 640x480 with 1 Axes>"
      ]
     },
     "metadata": {},
     "output_type": "display_data"
    }
   ],
   "source": [
    "#Pour seuil de classification = 0.3\n",
    "fpr, tpr, thresholds = roc_curve(y_test, y_pred_03)\n",
    "plt.plot(fpr, tpr)\n",
    "plt.title(\"ROC curve 0.3\")"
   ]
  },
  {
   "cell_type": "code",
   "execution_count": 38,
   "id": "42719a53-da06-446d-a7f0-ffef906d5a32",
   "metadata": {
    "tags": []
   },
   "outputs": [
    {
     "data": {
      "text/plain": [
       "Text(0.5, 1.0, 'ROC curve 0.7')"
      ]
     },
     "execution_count": 38,
     "metadata": {},
     "output_type": "execute_result"
    },
    {
     "data": {
      "image/png": "[encoded data removed]",
      "text/plain": [
       "<Figure size 640x480 with 1 Axes>"
      ]
     },
     "metadata": {},
     "output_type": "display_data"
    }
   ],
   "source": [
    "#Pour seuil de classification = 0.7\n",
    "fpr, tpr, thresholds = roc_curve(y_test, y_pred_07)\n",
    "plt.plot(fpr, tpr)\n",
    "plt.title(\"ROC curve 0.7\")"
   ]
  },
  {
   "cell_type": "markdown",
   "id": "08a0a704-5077-492e-a215-8c269b9cdb64",
   "metadata": {},
   "source": [
    "\"Plus la courbe se rapproche du coin en haut à gauche, meilleur est le modèle.\": le meilleur modèle est donc celui avec le seuil de classification 0.7."
   ]
  },
  {
   "cell_type": "code",
   "execution_count": null,
   "id": "4552d197-e7dd-4358-98a5-dcb13682b82d",
   "metadata": {},
   "outputs": [],
   "source": []
  }
 ],
 "metadata": {
  "kernelspec": {
   "display_name": "Python 3 (ipykernel)",
   "language": "python",
   "name": "python3"
  },
  "language_info": {
   "codemirror_mode": {
    "name": "ipython",
    "version": 3
   },
   "file_extension": ".py",
   "mimetype": "text/x-python",
   "name": "python",
   "nbconvert_exporter": "python",
   "pygments_lexer": "ipython3",
   "version": "3.11.4"
  }
 },
 "nbformat": 4,
 "nbformat_minor": 5
}
