{
 "cells": [
  {
   "cell_type": "markdown",
   "id": "aa6ad859-9e7a-45a5-becc-06cb712a3571",
   "metadata": {},
   "source": [
    "Dans ce notebook, nous allons tester plusieurs algorithmes pour détecter les faux billets."
   ]
  },
  {
   "cell_type": "markdown",
   "id": "7eb76425-d12c-4ef0-b4ba-12757976510c",
   "metadata": {},
   "source": [
    "# Import librairies et jeux de données"
   ]
  },
  {
   "cell_type": "code",
   "execution_count": 55,
   "id": "ffb1f804-b0ff-4a53-8f01-38756a2b5e4d",
   "metadata": {
    "tags": []
   },
   "outputs": [],
   "source": [
    "import pandas as pd\n",
    "import numpy as np\n",
    "\n",
    "import statsmodels.api as sm\n",
    "\n",
    "#pour les représentations graphiques\n",
    "import seaborn as sns\n",
    "import matplotlib.pyplot as plt\n",
    "import plotly.graph_objects as go\n",
    "\n",
    "#pour centrer-réduire\n",
    "from sklearn.preprocessing import MinMaxScaler, StandardScaler\n",
    "\n",
    "#pour les test statistiques\n",
    "from scipy.stats import ttest_ind, shapiro\n",
    "\n",
    "#pour les modèles non-supervisés\n",
    "from sklearn.decomposition import PCA\n",
    "from sklearn.cluster import KMeans\n",
    "\n",
    "#pour les modèles supervisés\n",
    "from sklearn.linear_model import LogisticRegression, LinearRegression\n",
    "from sklearn.model_selection import train_test_split, cross_val_score, GridSearchCV\n",
    "\n",
    "#Pour évaluer les performances des modèles\n",
    "from sklearn.metrics import confusion_matrix, mean_squared_error, mean_absolute_percentage_error, accuracy_score, precision_score, recall_score, roc_auc_score, roc_curve, f1_score\n",
    "from scipy.optimize import linear_sum_assignment\n",
    "from sklearn import metrics"
   ]
  },
  {
   "cell_type": "code",
   "execution_count": 2,
   "id": "1555dc04-97c1-423f-81d4-f6da11d4fe9a",
   "metadata": {
    "tags": []
   },
   "outputs": [],
   "source": [
    "df_scaled = pd.read_csv(\"df_scaled.csv\", sep=',')\n",
    "df = pd.read_csv(\"df.csv\", sep=',')"
   ]
  },
  {
   "cell_type": "code",
   "execution_count": 3,
   "id": "5a02eb16-fff9-4ccc-bf9f-8ca804c761e4",
   "metadata": {
    "tags": []
   },
   "outputs": [
    {
     "data": {
      "text/html": [
       "<div>\n",
       "<style scoped>\n",
       "    .dataframe tbody tr th:only-of-type {\n",
       "        vertical-align: middle;\n",
       "    }\n",
       "\n",
       "    .dataframe tbody tr th {\n",
       "        vertical-align: top;\n",
       "    }\n",
       "\n",
       "    .dataframe thead th {\n",
       "        text-align: right;\n",
       "    }\n",
       "</style>\n",
       "<table border=\"1\" class=\"dataframe\">\n",
       "  <thead>\n",
       "    <tr style=\"text-align: right;\">\n",
       "      <th></th>\n",
       "      <th>is_genuine</th>\n",
       "      <th>diagonal</th>\n",
       "      <th>height_left</th>\n",
       "      <th>height_right</th>\n",
       "      <th>margin_low</th>\n",
       "      <th>margin_up</th>\n",
       "      <th>length</th>\n",
       "    </tr>\n",
       "  </thead>\n",
       "  <tbody>\n",
       "    <tr>\n",
       "      <th>0</th>\n",
       "      <td>1</td>\n",
       "      <td>171.81</td>\n",
       "      <td>104.86</td>\n",
       "      <td>104.95</td>\n",
       "      <td>4.52</td>\n",
       "      <td>2.89</td>\n",
       "      <td>112.83</td>\n",
       "    </tr>\n",
       "    <tr>\n",
       "      <th>1</th>\n",
       "      <td>1</td>\n",
       "      <td>171.46</td>\n",
       "      <td>103.36</td>\n",
       "      <td>103.66</td>\n",
       "      <td>3.77</td>\n",
       "      <td>2.99</td>\n",
       "      <td>113.09</td>\n",
       "    </tr>\n",
       "    <tr>\n",
       "      <th>2</th>\n",
       "      <td>1</td>\n",
       "      <td>172.69</td>\n",
       "      <td>104.48</td>\n",
       "      <td>103.50</td>\n",
       "      <td>4.40</td>\n",
       "      <td>2.94</td>\n",
       "      <td>113.16</td>\n",
       "    </tr>\n",
       "    <tr>\n",
       "      <th>3</th>\n",
       "      <td>1</td>\n",
       "      <td>171.36</td>\n",
       "      <td>103.91</td>\n",
       "      <td>103.94</td>\n",
       "      <td>3.62</td>\n",
       "      <td>3.01</td>\n",
       "      <td>113.51</td>\n",
       "    </tr>\n",
       "    <tr>\n",
       "      <th>4</th>\n",
       "      <td>1</td>\n",
       "      <td>171.73</td>\n",
       "      <td>104.28</td>\n",
       "      <td>103.46</td>\n",
       "      <td>4.04</td>\n",
       "      <td>3.48</td>\n",
       "      <td>112.54</td>\n",
       "    </tr>\n",
       "  </tbody>\n",
       "</table>\n",
       "</div>"
      ],
      "text/plain": [
       "   is_genuine  diagonal  height_left  height_right  margin_low  margin_up  \\\n",
       "0           1    171.81       104.86        104.95        4.52       2.89   \n",
       "1           1    171.46       103.36        103.66        3.77       2.99   \n",
       "2           1    172.69       104.48        103.50        4.40       2.94   \n",
       "3           1    171.36       103.91        103.94        3.62       3.01   \n",
       "4           1    171.73       104.28        103.46        4.04       3.48   \n",
       "\n",
       "   length  \n",
       "0  112.83  \n",
       "1  113.09  \n",
       "2  113.16  \n",
       "3  113.51  \n",
       "4  112.54  "
      ]
     },
     "execution_count": 3,
     "metadata": {},
     "output_type": "execute_result"
    }
   ],
   "source": [
    "df.head()"
   ]
  },
  {
   "cell_type": "markdown",
   "id": "d2994d63-1459-4839-b87a-bf3b1d067b52",
   "metadata": {},
   "source": [
    "# Définition X et y et division train/test"
   ]
  },
  {
   "cell_type": "code",
   "execution_count": 4,
   "id": "63c7b65c-fc4c-4aec-9fa3-ac59a514826f",
   "metadata": {
    "tags": []
   },
   "outputs": [],
   "source": [
    "# Définit X et y\n",
    "X = df.drop(columns='is_genuine')\n",
    "y = df['is_genuine']\n",
    "\n",
    "# Sépare les données en entraînement et test\n",
    "X_train, X_test, y_train, y_test = train_test_split(\n",
    "    X, y, test_size=0.4, random_state=42)"
   ]
  },
  {
   "cell_type": "code",
   "execution_count": 5,
   "id": "c09d4c7e-f36d-4d99-b70b-a80e5eabfea4",
   "metadata": {
    "tags": []
   },
   "outputs": [],
   "source": [
    "# Standardise les données d'entrainement\n",
    "scaler = StandardScaler()\n",
    "X_train_scaled = scaler.fit_transform(X_train)"
   ]
  },
  {
   "cell_type": "code",
   "execution_count": 6,
   "id": "12748352-b18f-4918-8d4c-30e31666677b",
   "metadata": {
    "tags": []
   },
   "outputs": [],
   "source": [
    "#On standardise les données de test. On n'utilise que le transform car le scaler a déjà été fit sur les données d'entraînement.\n",
    "X_test_scaled = scaler.transform(X_test)"
   ]
  },
  {
   "cell_type": "markdown",
   "id": "432d8393-7259-4d7e-8ff5-e4f4329b8e26",
   "metadata": {
    "tags": []
   },
   "source": [
    "# Définition des métriques"
   ]
  },
  {
   "cell_type": "raw",
   "id": "28ec2995-9105-49ae-a126-020a5ed1aa41",
   "metadata": {},
   "source": [
    "Pour comparer les différents algorithmes, nous allons utiliser les métriques suivantes qui sont adaptées aux problèmes de classification:\n",
    "-accuracy: le nombre d'échantillons qui ont été correctement classés (échantillosn biens classés / échantillons totaux)\n",
    "-Le rappel est adapté pour minimiser les faux négatifs, quand les conséquences de manquer des instances positives sont graves (TP/TP+FN)\n",
    "-La précision est adaptée quand on souhaite minimiser les faux positifs. (TP/TP+FP)\n",
    "-Le f1 permet de résumer les informations de précision et rappel en une seule métrique"
   ]
  },
  {
   "cell_type": "markdown",
   "id": "7eacff50-857e-4281-b101-fd67b2261228",
   "metadata": {},
   "source": [
    "# Clustering"
   ]
  },
  {
   "cell_type": "markdown",
   "id": "e459e564-586e-45f2-b0ab-633a1577fa6c",
   "metadata": {},
   "source": [
    "On va commencer par prédire la véracité des billets avec un Kmeans. Le Kmeans est une technique d'apprentissage non supervisée dans laquelle l'algorithme va essayer de déterminer des clusters homogènes dans les données."
   ]
  },
  {
   "cell_type": "markdown",
   "id": "9fdac8eb-fca1-4200-b757-8b69eb9857a1",
   "metadata": {
    "tags": []
   },
   "source": [
    "## Application du Kmeans"
   ]
  },
  {
   "cell_type": "raw",
   "id": "71773277-c790-4888-a428-eb1b338675b3",
   "metadata": {},
   "source": [
    "-Sachant que l'on cherche à dvisier nos individus selon 2 modalités (vrai/faux billet), j'effectue mon kmeans pour 2 clusters.\n",
    "-Kmeans étant habituellement utilisé pour faire du clustering et non pas de la classification, je fournis les centroïdes initiaux à mon modèle pour qu'il attribue bien la valeur 0 aux faux billets et la valeur 1 aux vrais billets et pouvoir ainsi comparer les resultats du kmeans avec la colonne 'is_genuine'"
   ]
  },
  {
   "cell_type": "code",
   "execution_count": 8,
   "id": "aff5613b-ae32-47e6-88ad-c68f5df56019",
   "metadata": {
    "tags": []
   },
   "outputs": [],
   "source": [
    "#Je récupère les centroïdes de mon jeu de données complet\n",
    "mean_values = df_scaled.groupby('is_genuine').mean()\n",
    "#je tranforme en array pour pouvoir le passer en argument de mon modèle\n",
    "centroids = mean_values.values"
   ]
  },
  {
   "cell_type": "code",
   "execution_count": 9,
   "id": "ab517b0d-a2fa-4e68-842b-7ba0493919b7",
   "metadata": {
    "tags": []
   },
   "outputs": [
    {
     "data": {
      "text/html": [
       "<style>#sk-container-id-1 {\n",
       "  /* Definition of color scheme common for light and dark mode */\n",
       "  --sklearn-color-text: #000;\n",
       "  --sklearn-color-text-muted: #666;\n",
       "  --sklearn-color-line: gray;\n",
       "  /* Definition of color scheme for unfitted estimators */\n",
       "  --sklearn-color-unfitted-level-0: #fff5e6;\n",
       "  --sklearn-color-unfitted-level-1: #f6e4d2;\n",
       "  --sklearn-color-unfitted-level-2: #ffe0b3;\n",
       "  --sklearn-color-unfitted-level-3: chocolate;\n",
       "  /* Definition of color scheme for fitted estimators */\n",
       "  --sklearn-color-fitted-level-0: #f0f8ff;\n",
       "  --sklearn-color-fitted-level-1: #d4ebff;\n",
       "  --sklearn-color-fitted-level-2: #b3dbfd;\n",
       "  --sklearn-color-fitted-level-3: cornflowerblue;\n",
       "\n",
       "  /* Specific color for light theme */\n",
       "  --sklearn-color-text-on-default-background: var(--sg-text-color, var(--theme-code-foreground, var(--jp-content-font-color1, black)));\n",
       "  --sklearn-color-background: var(--sg-background-color, var(--theme-background, var(--jp-layout-color0, white)));\n",
       "  --sklearn-color-border-box: var(--sg-text-color, var(--theme-code-foreground, var(--jp-content-font-color1, black)));\n",
       "  --sklearn-color-icon: #696969;\n",
       "\n",
       "  @media (prefers-color-scheme: dark) {\n",
       "    /* Redefinition of color scheme for dark theme */\n",
       "    --sklearn-color-text-on-default-background: var(--sg-text-color, var(--theme-code-foreground, var(--jp-content-font-color1, white)));\n",
       "    --sklearn-color-background: var(--sg-background-color, var(--theme-background, var(--jp-layout-color0, #111)));\n",
       "    --sklearn-color-border-box: var(--sg-text-color, var(--theme-code-foreground, var(--jp-content-font-color1, white)));\n",
       "    --sklearn-color-icon: #878787;\n",
       "  }\n",
       "}\n",
       "\n",
       "#sk-container-id-1 {\n",
       "  color: var(--sklearn-color-text);\n",
       "}\n",
       "\n",
       "#sk-container-id-1 pre {\n",
       "  padding: 0;\n",
       "}\n",
       "\n",
       "#sk-container-id-1 input.sk-hidden--visually {\n",
       "  border: 0;\n",
       "  clip: rect(1px 1px 1px 1px);\n",
       "  clip: rect(1px, 1px, 1px, 1px);\n",
       "  height: 1px;\n",
       "  margin: -1px;\n",
       "  overflow: hidden;\n",
       "  padding: 0;\n",
       "  position: absolute;\n",
       "  width: 1px;\n",
       "}\n",
       "\n",
       "#sk-container-id-1 div.sk-dashed-wrapped {\n",
       "  border: 1px dashed var(--sklearn-color-line);\n",
       "  margin: 0 0.4em 0.5em 0.4em;\n",
       "  box-sizing: border-box;\n",
       "  padding-bottom: 0.4em;\n",
       "  background-color: var(--sklearn-color-background);\n",
       "}\n",
       "\n",
       "#sk-container-id-1 div.sk-container {\n",
       "  /* jupyter's `normalize.less` sets `[hidden] { display: none; }`\n",
       "     but bootstrap.min.css set `[hidden] { display: none !important; }`\n",
       "     so we also need the `!important` here to be able to override the\n",
       "     default hidden behavior on the sphinx rendered scikit-learn.org.\n",
       "     See: https://github.com/scikit-learn/scikit-learn/issues/21755 */\n",
       "  display: inline-block !important;\n",
       "  position: relative;\n",
       "}\n",
       "\n",
       "#sk-container-id-1 div.sk-text-repr-fallback {\n",
       "  display: none;\n",
       "}\n",
       "\n",
       "div.sk-parallel-item,\n",
       "div.sk-serial,\n",
       "div.sk-item {\n",
       "  /* draw centered vertical line to link estimators */\n",
       "  background-image: linear-gradient(var(--sklearn-color-text-on-default-background), var(--sklearn-color-text-on-default-background));\n",
       "  background-size: 2px 100%;\n",
       "  background-repeat: no-repeat;\n",
       "  background-position: center center;\n",
       "}\n",
       "\n",
       "/* Parallel-specific style estimator block */\n",
       "\n",
       "#sk-container-id-1 div.sk-parallel-item::after {\n",
       "  content: \"\";\n",
       "  width: 100%;\n",
       "  border-bottom: 2px solid var(--sklearn-color-text-on-default-background);\n",
       "  flex-grow: 1;\n",
       "}\n",
       "\n",
       "#sk-container-id-1 div.sk-parallel {\n",
       "  display: flex;\n",
       "  align-items: stretch;\n",
       "  justify-content: center;\n",
       "  background-color: var(--sklearn-color-background);\n",
       "  position: relative;\n",
       "}\n",
       "\n",
       "#sk-container-id-1 div.sk-parallel-item {\n",
       "  display: flex;\n",
       "  flex-direction: column;\n",
       "}\n",
       "\n",
       "#sk-container-id-1 div.sk-parallel-item:first-child::after {\n",
       "  align-self: flex-end;\n",
       "  width: 50%;\n",
       "}\n",
       "\n",
       "#sk-container-id-1 div.sk-parallel-item:last-child::after {\n",
       "  align-self: flex-start;\n",
       "  width: 50%;\n",
       "}\n",
       "\n",
       "#sk-container-id-1 div.sk-parallel-item:only-child::after {\n",
       "  width: 0;\n",
       "}\n",
       "\n",
       "/* Serial-specific style estimator block */\n",
       "\n",
       "#sk-container-id-1 div.sk-serial {\n",
       "  display: flex;\n",
       "  flex-direction: column;\n",
       "  align-items: center;\n",
       "  background-color: var(--sklearn-color-background);\n",
       "  padding-right: 1em;\n",
       "  padding-left: 1em;\n",
       "}\n",
       "\n",
       "\n",
       "/* Toggleable style: style used for estimator/Pipeline/ColumnTransformer box that is\n",
       "clickable and can be expanded/collapsed.\n",
       "- Pipeline and ColumnTransformer use this feature and define the default style\n",
       "- Estimators will overwrite some part of the style using the `sk-estimator` class\n",
       "*/\n",
       "\n",
       "/* Pipeline and ColumnTransformer style (default) */\n",
       "\n",
       "#sk-container-id-1 div.sk-toggleable {\n",
       "  /* Default theme specific background. It is overwritten whether we have a\n",
       "  specific estimator or a Pipeline/ColumnTransformer */\n",
       "  background-color: var(--sklearn-color-background);\n",
       "}\n",
       "\n",
       "/* Toggleable label */\n",
       "#sk-container-id-1 label.sk-toggleable__label {\n",
       "  cursor: pointer;\n",
       "  display: flex;\n",
       "  width: 100%;\n",
       "  margin-bottom: 0;\n",
       "  padding: 0.5em;\n",
       "  box-sizing: border-box;\n",
       "  text-align: center;\n",
       "  align-items: start;\n",
       "  justify-content: space-between;\n",
       "  gap: 0.5em;\n",
       "}\n",
       "\n",
       "#sk-container-id-1 label.sk-toggleable__label .caption {\n",
       "  font-size: 0.6rem;\n",
       "  font-weight: lighter;\n",
       "  color: var(--sklearn-color-text-muted);\n",
       "}\n",
       "\n",
       "#sk-container-id-1 label.sk-toggleable__label-arrow:before {\n",
       "  /* Arrow on the left of the label */\n",
       "  content: \"▸\";\n",
       "  float: left;\n",
       "  margin-right: 0.25em;\n",
       "  color: var(--sklearn-color-icon);\n",
       "}\n",
       "\n",
       "#sk-container-id-1 label.sk-toggleable__label-arrow:hover:before {\n",
       "  color: var(--sklearn-color-text);\n",
       "}\n",
       "\n",
       "/* Toggleable content - dropdown */\n",
       "\n",
       "#sk-container-id-1 div.sk-toggleable__content {\n",
       "  max-height: 0;\n",
       "  max-width: 0;\n",
       "  overflow: hidden;\n",
       "  text-align: left;\n",
       "  /* unfitted */\n",
       "  background-color: var(--sklearn-color-unfitted-level-0);\n",
       "}\n",
       "\n",
       "#sk-container-id-1 div.sk-toggleable__content.fitted {\n",
       "  /* fitted */\n",
       "  background-color: var(--sklearn-color-fitted-level-0);\n",
       "}\n",
       "\n",
       "#sk-container-id-1 div.sk-toggleable__content pre {\n",
       "  margin: 0.2em;\n",
       "  border-radius: 0.25em;\n",
       "  color: var(--sklearn-color-text);\n",
       "  /* unfitted */\n",
       "  background-color: var(--sklearn-color-unfitted-level-0);\n",
       "}\n",
       "\n",
       "#sk-container-id-1 div.sk-toggleable__content.fitted pre {\n",
       "  /* unfitted */\n",
       "  background-color: var(--sklearn-color-fitted-level-0);\n",
       "}\n",
       "\n",
       "#sk-container-id-1 input.sk-toggleable__control:checked~div.sk-toggleable__content {\n",
       "  /* Expand drop-down */\n",
       "  max-height: 200px;\n",
       "  max-width: 100%;\n",
       "  overflow: auto;\n",
       "}\n",
       "\n",
       "#sk-container-id-1 input.sk-toggleable__control:checked~label.sk-toggleable__label-arrow:before {\n",
       "  content: \"▾\";\n",
       "}\n",
       "\n",
       "/* Pipeline/ColumnTransformer-specific style */\n",
       "\n",
       "#sk-container-id-1 div.sk-label input.sk-toggleable__control:checked~label.sk-toggleable__label {\n",
       "  color: var(--sklearn-color-text);\n",
       "  background-color: var(--sklearn-color-unfitted-level-2);\n",
       "}\n",
       "\n",
       "#sk-container-id-1 div.sk-label.fitted input.sk-toggleable__control:checked~label.sk-toggleable__label {\n",
       "  background-color: var(--sklearn-color-fitted-level-2);\n",
       "}\n",
       "\n",
       "/* Estimator-specific style */\n",
       "\n",
       "/* Colorize estimator box */\n",
       "#sk-container-id-1 div.sk-estimator input.sk-toggleable__control:checked~label.sk-toggleable__label {\n",
       "  /* unfitted */\n",
       "  background-color: var(--sklearn-color-unfitted-level-2);\n",
       "}\n",
       "\n",
       "#sk-container-id-1 div.sk-estimator.fitted input.sk-toggleable__control:checked~label.sk-toggleable__label {\n",
       "  /* fitted */\n",
       "  background-color: var(--sklearn-color-fitted-level-2);\n",
       "}\n",
       "\n",
       "#sk-container-id-1 div.sk-label label.sk-toggleable__label,\n",
       "#sk-container-id-1 div.sk-label label {\n",
       "  /* The background is the default theme color */\n",
       "  color: var(--sklearn-color-text-on-default-background);\n",
       "}\n",
       "\n",
       "/* On hover, darken the color of the background */\n",
       "#sk-container-id-1 div.sk-label:hover label.sk-toggleable__label {\n",
       "  color: var(--sklearn-color-text);\n",
       "  background-color: var(--sklearn-color-unfitted-level-2);\n",
       "}\n",
       "\n",
       "/* Label box, darken color on hover, fitted */\n",
       "#sk-container-id-1 div.sk-label.fitted:hover label.sk-toggleable__label.fitted {\n",
       "  color: var(--sklearn-color-text);\n",
       "  background-color: var(--sklearn-color-fitted-level-2);\n",
       "}\n",
       "\n",
       "/* Estimator label */\n",
       "\n",
       "#sk-container-id-1 div.sk-label label {\n",
       "  font-family: monospace;\n",
       "  font-weight: bold;\n",
       "  display: inline-block;\n",
       "  line-height: 1.2em;\n",
       "}\n",
       "\n",
       "#sk-container-id-1 div.sk-label-container {\n",
       "  text-align: center;\n",
       "}\n",
       "\n",
       "/* Estimator-specific */\n",
       "#sk-container-id-1 div.sk-estimator {\n",
       "  font-family: monospace;\n",
       "  border: 1px dotted var(--sklearn-color-border-box);\n",
       "  border-radius: 0.25em;\n",
       "  box-sizing: border-box;\n",
       "  margin-bottom: 0.5em;\n",
       "  /* unfitted */\n",
       "  background-color: var(--sklearn-color-unfitted-level-0);\n",
       "}\n",
       "\n",
       "#sk-container-id-1 div.sk-estimator.fitted {\n",
       "  /* fitted */\n",
       "  background-color: var(--sklearn-color-fitted-level-0);\n",
       "}\n",
       "\n",
       "/* on hover */\n",
       "#sk-container-id-1 div.sk-estimator:hover {\n",
       "  /* unfitted */\n",
       "  background-color: var(--sklearn-color-unfitted-level-2);\n",
       "}\n",
       "\n",
       "#sk-container-id-1 div.sk-estimator.fitted:hover {\n",
       "  /* fitted */\n",
       "  background-color: var(--sklearn-color-fitted-level-2);\n",
       "}\n",
       "\n",
       "/* Specification for estimator info (e.g. \"i\" and \"?\") */\n",
       "\n",
       "/* Common style for \"i\" and \"?\" */\n",
       "\n",
       ".sk-estimator-doc-link,\n",
       "a:link.sk-estimator-doc-link,\n",
       "a:visited.sk-estimator-doc-link {\n",
       "  float: right;\n",
       "  font-size: smaller;\n",
       "  line-height: 1em;\n",
       "  font-family: monospace;\n",
       "  background-color: var(--sklearn-color-background);\n",
       "  border-radius: 1em;\n",
       "  height: 1em;\n",
       "  width: 1em;\n",
       "  text-decoration: none !important;\n",
       "  margin-left: 0.5em;\n",
       "  text-align: center;\n",
       "  /* unfitted */\n",
       "  border: var(--sklearn-color-unfitted-level-1) 1pt solid;\n",
       "  color: var(--sklearn-color-unfitted-level-1);\n",
       "}\n",
       "\n",
       ".sk-estimator-doc-link.fitted,\n",
       "a:link.sk-estimator-doc-link.fitted,\n",
       "a:visited.sk-estimator-doc-link.fitted {\n",
       "  /* fitted */\n",
       "  border: var(--sklearn-color-fitted-level-1) 1pt solid;\n",
       "  color: var(--sklearn-color-fitted-level-1);\n",
       "}\n",
       "\n",
       "/* On hover */\n",
       "div.sk-estimator:hover .sk-estimator-doc-link:hover,\n",
       ".sk-estimator-doc-link:hover,\n",
       "div.sk-label-container:hover .sk-estimator-doc-link:hover,\n",
       ".sk-estimator-doc-link:hover {\n",
       "  /* unfitted */\n",
       "  background-color: var(--sklearn-color-unfitted-level-3);\n",
       "  color: var(--sklearn-color-background);\n",
       "  text-decoration: none;\n",
       "}\n",
       "\n",
       "div.sk-estimator.fitted:hover .sk-estimator-doc-link.fitted:hover,\n",
       ".sk-estimator-doc-link.fitted:hover,\n",
       "div.sk-label-container:hover .sk-estimator-doc-link.fitted:hover,\n",
       ".sk-estimator-doc-link.fitted:hover {\n",
       "  /* fitted */\n",
       "  background-color: var(--sklearn-color-fitted-level-3);\n",
       "  color: var(--sklearn-color-background);\n",
       "  text-decoration: none;\n",
       "}\n",
       "\n",
       "/* Span, style for the box shown on hovering the info icon */\n",
       ".sk-estimator-doc-link span {\n",
       "  display: none;\n",
       "  z-index: 9999;\n",
       "  position: relative;\n",
       "  font-weight: normal;\n",
       "  right: .2ex;\n",
       "  padding: .5ex;\n",
       "  margin: .5ex;\n",
       "  width: min-content;\n",
       "  min-width: 20ex;\n",
       "  max-width: 50ex;\n",
       "  color: var(--sklearn-color-text);\n",
       "  box-shadow: 2pt 2pt 4pt #999;\n",
       "  /* unfitted */\n",
       "  background: var(--sklearn-color-unfitted-level-0);\n",
       "  border: .5pt solid var(--sklearn-color-unfitted-level-3);\n",
       "}\n",
       "\n",
       ".sk-estimator-doc-link.fitted span {\n",
       "  /* fitted */\n",
       "  background: var(--sklearn-color-fitted-level-0);\n",
       "  border: var(--sklearn-color-fitted-level-3);\n",
       "}\n",
       "\n",
       ".sk-estimator-doc-link:hover span {\n",
       "  display: block;\n",
       "}\n",
       "\n",
       "/* \"?\"-specific style due to the `<a>` HTML tag */\n",
       "\n",
       "#sk-container-id-1 a.estimator_doc_link {\n",
       "  float: right;\n",
       "  font-size: 1rem;\n",
       "  line-height: 1em;\n",
       "  font-family: monospace;\n",
       "  background-color: var(--sklearn-color-background);\n",
       "  border-radius: 1rem;\n",
       "  height: 1rem;\n",
       "  width: 1rem;\n",
       "  text-decoration: none;\n",
       "  /* unfitted */\n",
       "  color: var(--sklearn-color-unfitted-level-1);\n",
       "  border: var(--sklearn-color-unfitted-level-1) 1pt solid;\n",
       "}\n",
       "\n",
       "#sk-container-id-1 a.estimator_doc_link.fitted {\n",
       "  /* fitted */\n",
       "  border: var(--sklearn-color-fitted-level-1) 1pt solid;\n",
       "  color: var(--sklearn-color-fitted-level-1);\n",
       "}\n",
       "\n",
       "/* On hover */\n",
       "#sk-container-id-1 a.estimator_doc_link:hover {\n",
       "  /* unfitted */\n",
       "  background-color: var(--sklearn-color-unfitted-level-3);\n",
       "  color: var(--sklearn-color-background);\n",
       "  text-decoration: none;\n",
       "}\n",
       "\n",
       "#sk-container-id-1 a.estimator_doc_link.fitted:hover {\n",
       "  /* fitted */\n",
       "  background-color: var(--sklearn-color-fitted-level-3);\n",
       "}\n",
       "</style><div id=\"sk-container-id-1\" class=\"sk-top-container\"><div class=\"sk-text-repr-fallback\"><pre>KMeans(init=array([[-0.1877458 ,  0.53716487,  0.68602344,  1.10802031,  0.85738431,\n",
       "        -1.20106985],\n",
       "       [ 0.0938729 , -0.26858243, -0.34301172, -0.55401016, -0.42869216,\n",
       "         0.60053492]]),\n",
       "       n_clusters=2, n_init=1, random_state=42)</pre><b>In a Jupyter environment, please rerun this cell to show the HTML representation or trust the notebook. <br />On GitHub, the HTML representation is unable to render, please try loading this page with nbviewer.org.</b></div><div class=\"sk-container\" hidden><div class=\"sk-item\"><div class=\"sk-estimator fitted sk-toggleable\"><input class=\"sk-toggleable__control sk-hidden--visually\" id=\"sk-estimator-id-1\" type=\"checkbox\" checked><label for=\"sk-estimator-id-1\" class=\"sk-toggleable__label fitted sk-toggleable__label-arrow\"><div><div>KMeans</div></div><div><a class=\"sk-estimator-doc-link fitted\" rel=\"noreferrer\" target=\"_blank\" href=\"https://scikit-learn.org/1.6/modules/generated/sklearn.cluster.KMeans.html\">?<span>Documentation for KMeans</span></a><span class=\"sk-estimator-doc-link fitted\">i<span>Fitted</span></span></div></label><div class=\"sk-toggleable__content fitted\"><pre>KMeans(init=array([[-0.1877458 ,  0.53716487,  0.68602344,  1.10802031,  0.85738431,\n",
       "        -1.20106985],\n",
       "       [ 0.0938729 , -0.26858243, -0.34301172, -0.55401016, -0.42869216,\n",
       "         0.60053492]]),\n",
       "       n_clusters=2, n_init=1, random_state=42)</pre></div> </div></div></div></div>"
      ],
      "text/plain": [
       "KMeans(init=array([[-0.1877458 ,  0.53716487,  0.68602344,  1.10802031,  0.85738431,\n",
       "        -1.20106985],\n",
       "       [ 0.0938729 , -0.26858243, -0.34301172, -0.55401016, -0.42869216,\n",
       "         0.60053492]]),\n",
       "       n_clusters=2, n_init=1, random_state=42)"
      ]
     },
     "execution_count": 9,
     "metadata": {},
     "output_type": "execute_result"
    }
   ],
   "source": [
    "# Entraînement du modèle\n",
    "clf_kmeans = KMeans(n_clusters=2, init=centroids, n_init=1, random_state=42)\n",
    "clf_kmeans.fit(X_train_scaled)"
   ]
  },
  {
   "cell_type": "markdown",
   "id": "8fbfa53d-7cee-4c84-a8ba-7daac05f2d96",
   "metadata": {},
   "source": [
    "Nous voulons désormais comparer les résultats obtenus avec le clustering en comparaison aux résultats stockés dans la colonne 'is_genuine'"
   ]
  },
  {
   "cell_type": "code",
   "execution_count": 10,
   "id": "23faa405-f8ec-43d8-90f1-8ebcba973edf",
   "metadata": {
    "tags": []
   },
   "outputs": [],
   "source": [
    "#On effectue la prédiction sur les données de test\n",
    "y_pred = clf_kmeans.predict(X_test_scaled)"
   ]
  },
  {
   "cell_type": "markdown",
   "id": "5fd7cedf-331d-43b9-b719-9a15e11cc5d9",
   "metadata": {},
   "source": [
    "## Matrice de confusion"
   ]
  },
  {
   "cell_type": "code",
   "execution_count": 11,
   "id": "a1c32ad1-09da-4525-9b87-137786ec88cf",
   "metadata": {
    "tags": []
   },
   "outputs": [
    {
     "name": "stdout",
     "output_type": "stream",
     "text": [
      "accuracy_score 0.9883333333333333\n",
      "precision_score 0.989821882951654\n",
      "recall_score 0.9923469387755102\n",
      "f1_score 0.9910828025477707\n"
     ]
    }
   ],
   "source": [
    "print(\"accuracy_score\",accuracy_score(y_test,y_pred))\n",
    "print(\"precision_score\",precision_score(y_test, y_pred))\n",
    "print(\"recall_score\",recall_score(y_test,y_pred))\n",
    "print(\"f1_score\",f1_score(y_test, y_pred))"
   ]
  },
  {
   "cell_type": "code",
   "execution_count": 12,
   "id": "5a0c26e2-7506-4dad-ae75-b3b37e7de4c2",
   "metadata": {
    "tags": []
   },
   "outputs": [
    {
     "data": {
      "image/png": "[encoded data removed]",
      "text/plain": [
       "<Figure size 480x360 with 2 Axes>"
      ]
     },
     "metadata": {},
     "output_type": "display_data"
    }
   ],
   "source": [
    "# On trace la matrice de confusion\n",
    "fig, ax = plt.subplots(figsize=(4.8, 3.6))\n",
    "\n",
    "metrics.ConfusionMatrixDisplay.from_predictions(\n",
    "    y_test, y_pred, ax=ax, cmap='Blues')\n",
    "\n",
    "fig.suptitle('Matrice de confusion')\n",
    "\n",
    "plt.show()"
   ]
  },
  {
   "cell_type": "raw",
   "id": "2df1f4d5-a368-4ca1-a126-8b676f7dee09",
   "metadata": {},
   "source": [
    "-3 faux négatifs (vrais billets classés comme faux billets)\n",
    "-4 faux positifs (faux billets classés comme vrais billets)"
   ]
  },
  {
   "cell_type": "code",
   "execution_count": 13,
   "id": "b03af5b6-f17d-497c-9e12-6a920d9fbe59",
   "metadata": {
    "tags": []
   },
   "outputs": [],
   "source": [
    "#On peut vérifier cette interprétation en regroupant y_test et y_pred dans un dataframe\n",
    "df_resultats = pd.DataFrame({\n",
    "    'y_test': y_test,\n",
    "    'y_pred': y_pred\n",
    "}, index=y_test.index)"
   ]
  },
  {
   "cell_type": "code",
   "execution_count": 14,
   "id": "49e038ff-728c-4985-9b93-31765aa4b69a",
   "metadata": {
    "tags": []
   },
   "outputs": [
    {
     "data": {
      "text/plain": [
       "y_test    3\n",
       "y_pred    3\n",
       "dtype: int64"
      ]
     },
     "execution_count": 14,
     "metadata": {},
     "output_type": "execute_result"
    }
   ],
   "source": [
    "#faux negatifs\n",
    "df_resultats.loc[(df_resultats['y_test'] == 1) & (df_resultats['y_pred'] == 0)].count()"
   ]
  },
  {
   "cell_type": "code",
   "execution_count": 15,
   "id": "e1f4a452-6f54-4d8e-86ea-8e038c5e4f03",
   "metadata": {
    "tags": []
   },
   "outputs": [
    {
     "data": {
      "text/plain": [
       "y_test    4\n",
       "y_pred    4\n",
       "dtype: int64"
      ]
     },
     "execution_count": 15,
     "metadata": {},
     "output_type": "execute_result"
    }
   ],
   "source": [
    "#faux positifs\n",
    "df_resultats.loc[(df_resultats['y_test'] == 0) & (df_resultats['y_pred'] == 1)].count()"
   ]
  },
  {
   "cell_type": "markdown",
   "id": "9471fd82-eda8-4210-b71e-aa3545e76b7b",
   "metadata": {},
   "source": [
    "## Exemple avec un nouveau billet"
   ]
  },
  {
   "cell_type": "code",
   "execution_count": 16,
   "id": "f86fea8b-8276-4950-aac5-dc964d201ad1",
   "metadata": {
    "tags": []
   },
   "outputs": [
    {
     "data": {
      "text/html": [
       "<div>\n",
       "<style scoped>\n",
       "    .dataframe tbody tr th:only-of-type {\n",
       "        vertical-align: middle;\n",
       "    }\n",
       "\n",
       "    .dataframe tbody tr th {\n",
       "        vertical-align: top;\n",
       "    }\n",
       "\n",
       "    .dataframe thead th {\n",
       "        text-align: right;\n",
       "    }\n",
       "</style>\n",
       "<table border=\"1\" class=\"dataframe\">\n",
       "  <thead>\n",
       "    <tr style=\"text-align: right;\">\n",
       "      <th></th>\n",
       "      <th>diagonal</th>\n",
       "      <th>height_left</th>\n",
       "      <th>height_right</th>\n",
       "      <th>margin_low</th>\n",
       "      <th>margin_up</th>\n",
       "      <th>length</th>\n",
       "    </tr>\n",
       "    <tr>\n",
       "      <th>is_genuine</th>\n",
       "      <th></th>\n",
       "      <th></th>\n",
       "      <th></th>\n",
       "      <th></th>\n",
       "      <th></th>\n",
       "      <th></th>\n",
       "    </tr>\n",
       "  </thead>\n",
       "  <tbody>\n",
       "    <tr>\n",
       "      <th>0</th>\n",
       "      <td>-0.187746</td>\n",
       "      <td>0.537165</td>\n",
       "      <td>0.686023</td>\n",
       "      <td>1.10802</td>\n",
       "      <td>0.857384</td>\n",
       "      <td>-1.201070</td>\n",
       "    </tr>\n",
       "    <tr>\n",
       "      <th>1</th>\n",
       "      <td>0.093873</td>\n",
       "      <td>-0.268582</td>\n",
       "      <td>-0.343012</td>\n",
       "      <td>-0.55401</td>\n",
       "      <td>-0.428692</td>\n",
       "      <td>0.600535</td>\n",
       "    </tr>\n",
       "  </tbody>\n",
       "</table>\n",
       "</div>"
      ],
      "text/plain": [
       "            diagonal  height_left  height_right  margin_low  margin_up  \\\n",
       "is_genuine                                                               \n",
       "0          -0.187746     0.537165      0.686023     1.10802   0.857384   \n",
       "1           0.093873    -0.268582     -0.343012    -0.55401  -0.428692   \n",
       "\n",
       "              length  \n",
       "is_genuine            \n",
       "0          -1.201070  \n",
       "1           0.600535  "
      ]
     },
     "execution_count": 16,
     "metadata": {},
     "output_type": "execute_result"
    }
   ],
   "source": [
    "mean_values"
   ]
  },
  {
   "cell_type": "code",
   "execution_count": 17,
   "id": "e59cdfa4-d8ea-4742-b22a-8a0eb6a05673",
   "metadata": {
    "tags": []
   },
   "outputs": [],
   "source": [
    "#on crée un nouveau billet avec les dimensions moyenne d'un vrai billet pour voir si la classification est bonne\n",
    "nouveau_billet = np.array([[0.09, -0.27, -0.34, -0.55, -0.43, 0.6]])"
   ]
  },
  {
   "cell_type": "code",
   "execution_count": 18,
   "id": "f857f5a3-23ad-49f7-b19e-ec94fb444cf2",
   "metadata": {
    "tags": []
   },
   "outputs": [
    {
     "data": {
      "text/plain": [
       "array([1])"
      ]
     },
     "execution_count": 18,
     "metadata": {},
     "output_type": "execute_result"
    }
   ],
   "source": [
    "# Prédiction du cluster\n",
    "cluster = clf_kmeans.predict(nouveau_billet)\n",
    "cluster"
   ]
  },
  {
   "cell_type": "markdown",
   "id": "649f96b4-ef0f-4003-9b08-a0171a42c668",
   "metadata": {
    "tags": []
   },
   "source": [
    "la prédiction est bonne"
   ]
  },
  {
   "cell_type": "code",
   "execution_count": 19,
   "id": "5995636d-49bc-4a08-a36a-4713a9f995e5",
   "metadata": {
    "tags": []
   },
   "outputs": [],
   "source": [
    "#on crée un nouveau billet avec les dimensions moyenne d'un faux billet pour voir si la classification est bonne\n",
    "nouveau_billet = np.array([[-0.19, 0.54, 0.69, 1.11, 0.86, -1.2]])"
   ]
  },
  {
   "cell_type": "code",
   "execution_count": 20,
   "id": "69e9b23d-9f94-4f08-ba88-a4b00bd9c711",
   "metadata": {
    "tags": []
   },
   "outputs": [
    {
     "data": {
      "text/plain": [
       "array([0])"
      ]
     },
     "execution_count": 20,
     "metadata": {},
     "output_type": "execute_result"
    }
   ],
   "source": [
    "# Prédiction du cluster\n",
    "cluster = clf_kmeans.predict(nouveau_billet)\n",
    "cluster"
   ]
  },
  {
   "cell_type": "markdown",
   "id": "8f303688-ca94-47a6-b61e-e44edbe568f8",
   "metadata": {},
   "source": [
    "la prédiction est bonne"
   ]
  },
  {
   "cell_type": "markdown",
   "id": "b2868ae5-8b7b-4c80-8829-abf45232f052",
   "metadata": {},
   "source": [
    "## Validation croisée"
   ]
  },
  {
   "cell_type": "markdown",
   "id": "af3687df-2d17-4ca4-93c5-fdc9ce16a71b",
   "metadata": {},
   "source": [
    "On vérifie la qualité des résultats du kmeans grâce à une validation croisée."
   ]
  },
  {
   "cell_type": "code",
   "execution_count": 22,
   "id": "30956fd9-3fb3-4724-b922-44dc6226b466",
   "metadata": {
    "tags": []
   },
   "outputs": [
    {
     "name": "stderr",
     "output_type": "stream",
     "text": [
      "C:\\Users\\Pauline NANDELEC\\anaconda3\\Lib\\site-packages\\sklearn\\cluster\\_kmeans.py:1419: UserWarning: KMeans is known to have a memory leak on Windows with MKL, when there are less chunks than available threads. You can avoid it by setting the environment variable OMP_NUM_THREADS=3.\n",
      "  warnings.warn(\n",
      "C:\\Users\\Pauline NANDELEC\\anaconda3\\Lib\\site-packages\\sklearn\\cluster\\_kmeans.py:1419: UserWarning: KMeans is known to have a memory leak on Windows with MKL, when there are less chunks than available threads. You can avoid it by setting the environment variable OMP_NUM_THREADS=3.\n",
      "  warnings.warn(\n",
      "C:\\Users\\Pauline NANDELEC\\anaconda3\\Lib\\site-packages\\sklearn\\cluster\\_kmeans.py:1419: UserWarning: KMeans is known to have a memory leak on Windows with MKL, when there are less chunks than available threads. You can avoid it by setting the environment variable OMP_NUM_THREADS=3.\n",
      "  warnings.warn(\n",
      "C:\\Users\\Pauline NANDELEC\\anaconda3\\Lib\\site-packages\\sklearn\\cluster\\_kmeans.py:1419: UserWarning: KMeans is known to have a memory leak on Windows with MKL, when there are less chunks than available threads. You can avoid it by setting the environment variable OMP_NUM_THREADS=3.\n",
      "  warnings.warn(\n",
      "C:\\Users\\Pauline NANDELEC\\anaconda3\\Lib\\site-packages\\sklearn\\cluster\\_kmeans.py:1419: UserWarning: KMeans is known to have a memory leak on Windows with MKL, when there are less chunks than available threads. You can avoid it by setting the environment variable OMP_NUM_THREADS=3.\n",
      "  warnings.warn(\n"
     ]
    },
    {
     "data": {
      "text/plain": [
       "array([1.        , 0.98333333, 0.97222222, 0.98888889, 0.97777778])"
      ]
     },
     "execution_count": 22,
     "metadata": {},
     "output_type": "execute_result"
    }
   ],
   "source": [
    "# Calcul 'accuracy' pour 5 'folds'\n",
    "scores = cross_val_score(\n",
    "    KMeans(n_clusters=2, init=centroids, n_init=1, random_state=42),\n",
    "    X_train_scaled, y_train, cv=5, scoring='accuracy'\n",
    ")\n",
    "\n",
    "scores"
   ]
  },
  {
   "cell_type": "markdown",
   "id": "b28e0447-4182-4069-93e1-fd38379cf673",
   "metadata": {},
   "source": [
    "Les résultats changent en fonction des données ce qui peut nous faire douter sur la fiabilité du modèle."
   ]
  },
  {
   "cell_type": "markdown",
   "id": "de83a807-1610-4ee5-97bd-d003f24b5440",
   "metadata": {},
   "source": [
    "# Régression logistique"
   ]
  },
  {
   "cell_type": "markdown",
   "id": "990e0d42-50cf-4dd6-85a3-40a8ffe5620d",
   "metadata": {},
   "source": [
    "J'ai choisi d'utiliser la régression logistique de sklearn et non pas de statsmodels car mon objectif est ici d'optimiser la prédiction et non pas d'interpréter les p-values, les coefficients etc...\n",
    "Si j'avais voulu faire de la sélection de variables j'aurai pu utiliser la fonction summary() de statsmodels après avoir entraîné ma régression logistique. Cependant comme j'ai fait mon kmeans avec toutes les variables et que je souhaite comparer mes 2 modèles, je ne fais pas de sélection de variable."
   ]
  },
  {
   "cell_type": "markdown",
   "id": "dfbbc7fd-dcf7-4e7a-b8fa-df2aabeb94bf",
   "metadata": {},
   "source": [
    "## Entraînement du modèle"
   ]
  },
  {
   "cell_type": "code",
   "execution_count": 34,
   "id": "f9098320-b184-41c1-926c-cde9d6ec7160",
   "metadata": {
    "tags": []
   },
   "outputs": [],
   "source": [
    "#initialisation et entraînement du modèle\n",
    "clf_reg_log = LogisticRegression(random_state=808).fit(X_train_scaled, y_train)"
   ]
  },
  {
   "cell_type": "code",
   "execution_count": 35,
   "id": "20d59b79-968a-4eaa-aab9-1c524eafc7c6",
   "metadata": {
    "tags": []
   },
   "outputs": [
    {
     "name": "stdout",
     "output_type": "stream",
     "text": [
      "diagonal : \t 0.153703\n",
      "height_left : \t-0.510819\n",
      "height_right : \t-0.878738\n",
      "margin_low : \t-2.396837\n",
      "margin_up : \t-1.546210\n",
      "length : \t 3.339559\n"
     ]
    }
   ],
   "source": [
    "# Affiche les coefficients de la régression\n",
    "for column, coef in zip(X.columns, clf_reg_log.coef_[0]):\n",
    "    print(f'{column} : \\t{coef:>9.6f}')"
   ]
  },
  {
   "cell_type": "markdown",
   "id": "cdb55437-2f3c-4baf-a4a0-4a70870b948f",
   "metadata": {},
   "source": [
    "Le coefficient le plus élevé est celui de la longueur. En effet, nous avions vu dans les analyses descriptives que la longueur était la caractéristique physique qui différenciait le mieux les vrais des faux billets."
   ]
  },
  {
   "cell_type": "markdown",
   "id": "02a2ceeb-8646-4e21-8b0f-86d5da8e4104",
   "metadata": {},
   "source": [
    "## Mesures de perfomance"
   ]
  },
  {
   "cell_type": "code",
   "execution_count": 36,
   "id": "ee5d7fde-b392-4b41-a616-dc429dca5f6d",
   "metadata": {
    "tags": []
   },
   "outputs": [
    {
     "data": {
      "text/plain": [
       "<Axes: ylabel='Count'>"
      ]
     },
     "execution_count": 36,
     "metadata": {},
     "output_type": "execute_result"
    },
    {
     "data": {
      "image/png": "[encoded data removed]",
      "text/plain": [
       "<Figure size 640x480 with 1 Axes>"
      ]
     },
     "metadata": {},
     "output_type": "display_data"
    }
   ],
   "source": [
    "#histogramme des probabilités de prédiction\n",
    "\n",
    "y_hat_proba = clf_reg_log.predict_proba(X_test_scaled)[:,1]\n",
    "sns.histplot(y_hat_proba)"
   ]
  },
  {
   "cell_type": "markdown",
   "id": "0b0bcba8-838e-4ab8-a9f7-ede4eec1d97d",
   "metadata": {},
   "source": [
    "Le modèle est assez confiant de ses prédiction, la plupart des prédictions ont une probabilité proche de 0 ou de 1"
   ]
  },
  {
   "cell_type": "code",
   "execution_count": 37,
   "id": "c4915349-1b26-4e58-a601-a3d976dabe41",
   "metadata": {
    "tags": []
   },
   "outputs": [
    {
     "name": "stdout",
     "output_type": "stream",
     "text": [
      "accuracy 0.9866666666666667\n"
     ]
    }
   ],
   "source": [
    "#Accuracy \n",
    "y_pred = clf_reg_log.predict(X_test_scaled)\n",
    "\n",
    "print(\"accuracy\",accuracy_score(y_test, y_pred))"
   ]
  },
  {
   "cell_type": "markdown",
   "id": "451857f7-34d6-4e52-a074-a3271dd94632",
   "metadata": {},
   "source": [
    "C'est un très bon score"
   ]
  },
  {
   "cell_type": "code",
   "execution_count": 38,
   "id": "cded201f-c50b-404b-99ab-7faf0c665135",
   "metadata": {
    "tags": []
   },
   "outputs": [
    {
     "data": {
      "image/png": "[encoded data removed]",
      "text/plain": [
       "<Figure size 480x360 with 2 Axes>"
      ]
     },
     "metadata": {},
     "output_type": "display_data"
    }
   ],
   "source": [
    "# On trace la matrice de confusion\n",
    "fig, ax = plt.subplots(figsize=(4.8, 3.6))\n",
    "\n",
    "metrics.ConfusionMatrixDisplay.from_predictions(\n",
    "    y_test, y_pred, ax=ax, cmap='Blues')\n",
    "\n",
    "fig.suptitle('Matrice de confusion')\n",
    "\n",
    "plt.show()"
   ]
  },
  {
   "cell_type": "raw",
   "id": "28b9ce48-ffad-4259-be09-2636dc2e82a4",
   "metadata": {},
   "source": [
    "-3 faux négatifs (vrais billets classés comme faux billets)\n",
    "-5 faux positifs (faux billets classés comme vrais billets)"
   ]
  },
  {
   "cell_type": "markdown",
   "id": "3ac66f4e-83aa-44b1-bb84-f95e312ca993",
   "metadata": {
    "tags": []
   },
   "source": [
    "On obtient un score légèrement moins bons que pour le kmeans qui avait seulement 5 faux positifs."
   ]
  },
  {
   "cell_type": "markdown",
   "id": "9fcea193-ad5c-4ce3-b60a-0cbbcf70173d",
   "metadata": {},
   "source": [
    "## Test avec d'autres seuils de classification"
   ]
  },
  {
   "cell_type": "markdown",
   "id": "14ddb3ea-d18b-49ac-91cd-85be7559a9ef",
   "metadata": {},
   "source": [
    "Dans le cas de la détection de fraude, il y a un fort déséquilibre entre les cas positifs et les cas négatifs dans le dataset.\n",
    "On obtient ici une accuracy de 98.7% mais il faut faire intervenir d'autres métriques de classification adaptées à ce type de situation pour adapter notre modèle."
   ]
  },
  {
   "cell_type": "raw",
   "id": "a0816986-8dbd-4f90-a1c2-f75cc571c84a",
   "metadata": {},
   "source": [
    "Les scores obtenus sont dépendants du seuil de classification.\n",
    "Par défaut, on considère un seuil de  t=0.5: si la probabilité prédite <0.5, alors la prédiction est la catégorie 0, sinon 1. \n",
    "Mais on peut considérer d'autres valeurs pour ce seuil. \n",
    "Comparons les résultats obtenus pour 2 autres seuils. Par exemple t=0.3 et t=0.7.\n",
    "Pour obtenir les catégories prédites avec ces seuils, on part des probabilités prédites par le modèle (y_hat_proba):"
   ]
  },
  {
   "cell_type": "code",
   "execution_count": 42,
   "id": "8ebbdd96-2429-4651-a2ad-9829673b0f65",
   "metadata": {
    "tags": []
   },
   "outputs": [],
   "source": [
    "#On obtient les catégories relatives pour les 2 seuils :\n",
    "y_pred_03 = [ 0 if value < 0.3 else 1 for value in y_hat_proba ]\n",
    "y_pred_07 = [ 0 if value < 0.7 else 1 for value in y_hat_proba ]"
   ]
  },
  {
   "cell_type": "code",
   "execution_count": 44,
   "id": "e6c496db-778c-4f81-b961-88df770c0ab3",
   "metadata": {
    "tags": []
   },
   "outputs": [
    {
     "data": {
      "image/png": "[encoded data removed]",
      "text/plain": [
       "<Figure size 480x360 with 2 Axes>"
      ]
     },
     "metadata": {},
     "output_type": "display_data"
    }
   ],
   "source": [
    "#On a alors les matrices de confusion suivantes :\n",
    "\n",
    "# pour 0.3\n",
    "fig, ax = plt.subplots(figsize=(4.8, 3.6))\n",
    "\n",
    "metrics.ConfusionMatrixDisplay.from_predictions(\n",
    "    y_test, y_pred_03, ax=ax, cmap='Blues')\n",
    "\n",
    "fig.suptitle('Matrice de confusion')\n",
    "\n",
    "plt.show()"
   ]
  },
  {
   "cell_type": "raw",
   "id": "3f733787-2cc9-44fe-8d95-a0ea96312ad9",
   "metadata": {
    "tags": []
   },
   "source": [
    "-1 faux négatif (vrais billets classés comme faux billets)\n",
    "-8 faux positifs (faux billets classés comme vrais billets)"
   ]
  },
  {
   "cell_type": "code",
   "execution_count": 46,
   "id": "d3484f06-b174-49a9-9bd9-965911bc40f8",
   "metadata": {
    "tags": []
   },
   "outputs": [
    {
     "data": {
      "image/png": "[encoded data removed]",
      "text/plain": [
       "<Figure size 480x360 with 2 Axes>"
      ]
     },
     "metadata": {},
     "output_type": "display_data"
    }
   ],
   "source": [
    "# pour 0.7\n",
    "fig, ax = plt.subplots(figsize=(4.8, 3.6))\n",
    "\n",
    "metrics.ConfusionMatrixDisplay.from_predictions(\n",
    "    y_test, y_pred_07, ax=ax, cmap='Blues')\n",
    "\n",
    "fig.suptitle('Matrice de confusion')\n",
    "\n",
    "plt.show()"
   ]
  },
  {
   "cell_type": "raw",
   "id": "a6605510-78a2-45f7-8055-2a01546f8703",
   "metadata": {},
   "source": [
    "-5 faux négatif (vrais billets classés comme faux billets)\n",
    "-3 faux positifs (faux billets classés comme vrais billets)"
   ]
  },
  {
   "cell_type": "code",
   "execution_count": 52,
   "id": "c7c27dcb-e029-4869-8dfc-d103e7597230",
   "metadata": {
    "tags": []
   },
   "outputs": [
    {
     "data": {
      "text/html": [
       "<style type=\"text/css\">\n",
       "#T_ca4a1_row0_col3, #T_ca4a1_row1_col3, #T_ca4a1_row2_col2 {\n",
       "  font-weight: bold;\n",
       "}\n",
       "</style>\n",
       "<table id=\"T_ca4a1\">\n",
       "  <thead>\n",
       "    <tr>\n",
       "      <th class=\"blank level0\" >&nbsp;</th>\n",
       "      <th id=\"T_ca4a1_level0_col0\" class=\"col_heading level0 col0\" >Seuil</th>\n",
       "      <th id=\"T_ca4a1_level0_col1\" class=\"col_heading level0 col1\" >Accuracy</th>\n",
       "      <th id=\"T_ca4a1_level0_col2\" class=\"col_heading level0 col2\" >Precision</th>\n",
       "      <th id=\"T_ca4a1_level0_col3\" class=\"col_heading level0 col3\" >Recall</th>\n",
       "    </tr>\n",
       "  </thead>\n",
       "  <tbody>\n",
       "    <tr>\n",
       "      <th id=\"T_ca4a1_level0_row0\" class=\"row_heading level0 row0\" >0</th>\n",
       "      <td id=\"T_ca4a1_row0_col0\" class=\"data row0 col0\" >Seuil 0.5</td>\n",
       "      <td id=\"T_ca4a1_row0_col1\" class=\"data row0 col1\" >0.987000</td>\n",
       "      <td id=\"T_ca4a1_row0_col2\" class=\"data row0 col2\" >0.987000</td>\n",
       "      <td id=\"T_ca4a1_row0_col3\" class=\"data row0 col3\" >0.992000</td>\n",
       "    </tr>\n",
       "    <tr>\n",
       "      <th id=\"T_ca4a1_level0_row1\" class=\"row_heading level0 row1\" >1</th>\n",
       "      <td id=\"T_ca4a1_row1_col0\" class=\"data row1 col0\" >Seuil 0.3</td>\n",
       "      <td id=\"T_ca4a1_row1_col1\" class=\"data row1 col1\" >0.985000</td>\n",
       "      <td id=\"T_ca4a1_row1_col2\" class=\"data row1 col2\" >0.980000</td>\n",
       "      <td id=\"T_ca4a1_row1_col3\" class=\"data row1 col3\" >0.997000</td>\n",
       "    </tr>\n",
       "    <tr>\n",
       "      <th id=\"T_ca4a1_level0_row2\" class=\"row_heading level0 row2\" >2</th>\n",
       "      <td id=\"T_ca4a1_row2_col0\" class=\"data row2 col0\" >Seuil 0.7</td>\n",
       "      <td id=\"T_ca4a1_row2_col1\" class=\"data row2 col1\" >0.987000</td>\n",
       "      <td id=\"T_ca4a1_row2_col2\" class=\"data row2 col2\" >0.992000</td>\n",
       "      <td id=\"T_ca4a1_row2_col3\" class=\"data row2 col3\" >0.987000</td>\n",
       "    </tr>\n",
       "  </tbody>\n",
       "</table>\n"
      ],
      "text/plain": [
       "<pandas.io.formats.style.Styler at 0x17c44c6e390>"
      ]
     },
     "execution_count": 52,
     "metadata": {},
     "output_type": "execute_result"
    }
   ],
   "source": [
    "# Dictionnaire des prédictions\n",
    "predictions = {\n",
    "    \"Seuil 0.5\": y_pred,\n",
    "    \"Seuil 0.3\": y_pred_03,\n",
    "    \"Seuil 0.7\": y_pred_07\n",
    "}\n",
    "\n",
    "# Construction du tableau des scores\n",
    "results = []\n",
    "\n",
    "for nom, y_hat in predictions.items():\n",
    "    results.append({\n",
    "        \"Seuil\": nom,\n",
    "        \"Accuracy\": round(accuracy_score(y_test, y_hat), 3),\n",
    "        \"Precision\": round(precision_score(y_test, y_hat), 3),\n",
    "        \"Recall\": round(recall_score(y_test, y_hat), 3)\n",
    "    })\n",
    "\n",
    "df_scores = pd.DataFrame(results)\n",
    "\n",
    "# Fonction pour mettre en gras les valeurs max de chaque ligne\n",
    "def highlight_max_row(row):\n",
    "    is_max = row[[\"Accuracy\", \"Precision\", \"Recall\"]] == row[[\"Accuracy\", \"Precision\", \"Recall\"]].max()\n",
    "    return [\"font-weight: bold\" if v else \"\" for v in is_max]\n",
    "\n",
    "# Application du style\n",
    "styled_df = df_scores.style.apply(highlight_max_row, axis=1, subset=[\"Accuracy\", \"Precision\", \"Recall\"])\n",
    "\n",
    "styled_df"
   ]
  },
  {
   "cell_type": "raw",
   "id": "d40098f6-af14-4ce8-b159-590ce37f2cdd",
   "metadata": {},
   "source": [
    "Interprétation:\n",
    "-un seuil de classification + bas (0.3) diminue la précision donc la capacité à minimiser les faux positifs ainsi que l'accuracy cad échantillons bien classés / échantillons au total\n",
    "-un seuil de classfication + haut (0.7) augmente la précision donc la capacité à minimiser les faux positifs, diminue le recall cad la capacité à minimiser les faux négatifs et conserve une accuracy égale au seuil de classification par défaut (0.5).\n",
    "\n",
    "Dans notre contexte, on cherche à diminuer les faux positifs, un seuil de classification élevé est donc plus adapté."
   ]
  },
  {
   "cell_type": "code",
   "execution_count": 53,
   "id": "9c03d75f-c99a-4e07-b28e-feb166dfe0aa",
   "metadata": {
    "tags": []
   },
   "outputs": [
    {
     "data": {
      "image/png": "[encoded data removed]",
      "text/plain": [
       "<Figure size 1500x500 with 3 Axes>"
      ]
     },
     "metadata": {},
     "output_type": "display_data"
    }
   ],
   "source": [
    "# Dictionnaire des seuils\n",
    "seuils = {\n",
    "    \"Seuil 0.3\": 0.3,\n",
    "    \"Seuil 0.5\": 0.5,\n",
    "    \"Seuil 0.7\": 0.7\n",
    "}\n",
    "\n",
    "# Création de la figure à 3 sous-graphiques côte à côte\n",
    "fig, axes = plt.subplots(1, 3, figsize=(15, 5), sharey=True)\n",
    "\n",
    "# Boucle sur les seuils\n",
    "for ax, (nom, seuil) in zip(axes, seuils.items()):\n",
    "    y_hat = (y_hat_proba >= seuil).astype(int)  # prédictions binaires\n",
    "    fpr, tpr, _ = roc_curve(y_test, y_hat)\n",
    "    \n",
    "    ax.plot(fpr, tpr, label=f\"Seuil = {seuil}\")\n",
    "    ax.plot([0, 1], [0, 1], linestyle='--', color='gray')  # ligne aléatoire\n",
    "    ax.set_title(nom)\n",
    "    ax.set_xlabel('False Positive Rate')\n",
    "    ax.set_ylabel('True Positive Rate')\n",
    "    ax.legend()\n",
    "    ax.grid(True)\n",
    "\n",
    "plt.suptitle(\"Courbes ROC pour différents seuils\", fontsize=16)\n",
    "plt.tight_layout()\n",
    "plt.show()"
   ]
  },
  {
   "cell_type": "markdown",
   "id": "08a0a704-5077-492e-a215-8c269b9cdb64",
   "metadata": {},
   "source": [
    "\"Plus la courbe se rapproche du coin en haut à gauche, meilleur est le modèle.\": le meilleur modèle est donc celui avec le seuil de classification 0.7."
   ]
  },
  {
   "cell_type": "code",
   "execution_count": 56,
   "id": "4552d197-e7dd-4358-98a5-dcb13682b82d",
   "metadata": {},
   "outputs": [
    {
     "name": "stdout",
     "output_type": "stream",
     "text": [
      "{'C': 10}\n"
     ]
    }
   ],
   "source": [
    "# Définit les paramètres et valeurs à tester\n",
    "param_grid = {'C': [0.01, 0.1, 1, 10, 100, 1000]}\n",
    "\n",
    "# Exécute GridSearchCV avec la régression logistique\n",
    "clf_log_reg_gs = GridSearchCV(\n",
    "    LogisticRegression(max_iter=1000, random_state=0),\n",
    "    param_grid=param_grid, scoring='precision', cv=5\n",
    ")\n",
    "clf_log_reg_gs.fit(X_train_scaled, y_train)\n",
    "\n",
    "# Affiche le meilleur paramètre\n",
    "print(clf_log_reg_gs.best_params_)"
   ]
  },
  {
   "cell_type": "code",
   "execution_count": 57,
   "id": "832a89ac-e3ea-4ff8-9ba5-7b23e25644ac",
   "metadata": {
    "tags": []
   },
   "outputs": [
    {
     "data": {
      "image/png": "[encoded data removed]",
      "text/plain": [
       "<Figure size 480x360 with 2 Axes>"
      ]
     },
     "metadata": {},
     "output_type": "display_data"
    }
   ],
   "source": [
    "# Effectue la régression avec C=100\n",
    "clf_log_reg_gs = LogisticRegression(C=10, max_iter=100)\n",
    "clf_log_reg_gs.fit(X_train_scaled, y_train)\n",
    "\n",
    "# Effectue la prédiction sur les données test\n",
    "y_pred = clf_log_reg_gs.predict(X_test_scaled)\n",
    "\n",
    "# Trace la matrice de confusion\n",
    "fig, ax = plt.subplots(figsize=(4.8, 3.6))\n",
    "\n",
    "metrics.ConfusionMatrixDisplay.from_predictions(\n",
    "    y_test, y_pred, ax=ax, cmap='Blues')\n",
    "\n",
    "fig.suptitle('Matrice de confusion')\n",
    "\n",
    "plt.show()"
   ]
  },
  {
   "cell_type": "code",
   "execution_count": null,
   "id": "4538c538-b75f-4170-83d6-23df495c5332",
   "metadata": {},
   "outputs": [],
   "source": [
    "tester la validation croisée: https://www.youtube.com/watch?v=ga2n_lkenbc"
   ]
  }
 ],
 "metadata": {
  "kernelspec": {
   "display_name": "Python 3 (ipykernel)",
   "language": "python",
   "name": "python3"
  },
  "language_info": {
   "codemirror_mode": {
    "name": "ipython",
    "version": 3
   },
   "file_extension": ".py",
   "mimetype": "text/x-python",
   "name": "python",
   "nbconvert_exporter": "python",
   "pygments_lexer": "ipython3",
   "version": "3.11.4"
  }
 },
 "nbformat": 4,
 "nbformat_minor": 5
}
