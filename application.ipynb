{
 "cells": [
  {
   "cell_type": "code",
   "execution_count": 1,
   "id": "175a487a-9f03-4ed2-8e80-b21f82edfbce",
   "metadata": {
    "tags": []
   },
   "outputs": [],
   "source": [
    "import streamlit as st\n",
    "import pandas as pd\n",
    "import joblib"
   ]
  },
  {
   "cell_type": "code",
   "execution_count": 2,
   "id": "6eddfd67-956b-4838-8f5d-cd77878b33b4",
   "metadata": {
    "tags": []
   },
   "outputs": [],
   "source": [
    "fichier = 'billets_production.csv'"
   ]
  },
  {
   "cell_type": "code",
   "execution_count": 3,
   "id": "1a044493-58af-467f-b8bd-8e70f8683aec",
   "metadata": {
    "tags": []
   },
   "outputs": [],
   "source": [
    "# Colonnes attendues\n",
    "colonnes_attendues = ['diagonal', 'height_left', 'height_right', 'margin_low', 'margin_up', 'length']"
   ]
  },
  {
   "cell_type": "code",
   "execution_count": 4,
   "id": "a66a5cf6-e134-4f17-9c65-a8d655816355",
   "metadata": {
    "tags": []
   },
   "outputs": [],
   "source": [
    "def verifier_colonnes(df, colonnes):\n",
    "    colonnes_manquantes = [col for col in colonnes if col not in df.columns]\n",
    "    if colonnes_manquantes:\n",
    "        raise ValueError(f\"Colonnes manquantes dans le fichier : {colonnes_manquantes}\")\n",
    "\n",
    "def verifier_valeurs_nulles(df, colonnes):\n",
    "    colonnes_nulles = df[colonnes].columns[df[colonnes].isnull().any()].tolist()\n",
    "    if colonnes_nulles:\n",
    "        raise ValueError(f\"Présence de valeurs nulles dans les colonnes : {colonnes_nulles}\")"
   ]
  },
  {
   "cell_type": "code",
   "execution_count": 6,
   "id": "f5e55899-ead3-4e3d-b0cc-4430a6386b77",
   "metadata": {
    "tags": []
   },
   "outputs": [],
   "source": [
    "if fichier is not None:\n",
    "    try:\n",
    "        df = pd.read_csv(fichier)\n",
    "\n",
    "        if 'id' not in df.columns:\n",
    "            raise ValueError(\"La colonne 'id' est manquante dans le fichier CSV.\")\n",
    "\n",
    "        df = df.set_index('id')\n",
    "\n",
    "        verifier_colonnes(df, colonnes_attendues)\n",
    "        verifier_valeurs_nulles(df, colonnes_attendues)\n",
    "\n",
    "        modele = joblib.load(\"prediction_billet.pkl\")\n",
    "\n",
    "        predictions = modele.predict(df)\n",
    "        proba_is_genuine = modele.predict_proba(df)[:, 1]\n",
    "\n",
    "        df['is_genuine'] = predictions\n",
    "        df['proba_is_genuine'] = proba_is_genuine\n",
    "\n",
    "    except ValueError as ve:\n",
    "        print(f\"❌ Erreur de validation : {ve}\")\n",
    "\n",
    "    except FileNotFoundError:\n",
    "        print(\"❌ Le fichier du modèle 'prediction_billet.pkl' est introuvable sur le serveur.\")\n",
    "\n",
    "    except Exception as e:\n",
    "        print(f\"🚨 Une erreur inattendue est survenue : {e}\")\n",
    "\n",
    "else:\n",
    "    print(\"⬆️ Veuillez charger un fichier CSV pour démarrer la prédiction.\")"
   ]
  },
  {
   "cell_type": "code",
   "execution_count": 7,
   "id": "9e7a5c38-ffb9-4890-9a3e-d19408b9311c",
   "metadata": {
    "tags": []
   },
   "outputs": [
    {
     "data": {
      "text/html": [
       "<div>\n",
       "<style scoped>\n",
       "    .dataframe tbody tr th:only-of-type {\n",
       "        vertical-align: middle;\n",
       "    }\n",
       "\n",
       "    .dataframe tbody tr th {\n",
       "        vertical-align: top;\n",
       "    }\n",
       "\n",
       "    .dataframe thead th {\n",
       "        text-align: right;\n",
       "    }\n",
       "</style>\n",
       "<table border=\"1\" class=\"dataframe\">\n",
       "  <thead>\n",
       "    <tr style=\"text-align: right;\">\n",
       "      <th></th>\n",
       "      <th>diagonal</th>\n",
       "      <th>height_left</th>\n",
       "      <th>height_right</th>\n",
       "      <th>margin_low</th>\n",
       "      <th>margin_up</th>\n",
       "      <th>length</th>\n",
       "      <th>is_genuine</th>\n",
       "      <th>proba_is_genuine</th>\n",
       "    </tr>\n",
       "    <tr>\n",
       "      <th>id</th>\n",
       "      <th></th>\n",
       "      <th></th>\n",
       "      <th></th>\n",
       "      <th></th>\n",
       "      <th></th>\n",
       "      <th></th>\n",
       "      <th></th>\n",
       "      <th></th>\n",
       "    </tr>\n",
       "  </thead>\n",
       "  <tbody>\n",
       "    <tr>\n",
       "      <th>A_1</th>\n",
       "      <td>171.76</td>\n",
       "      <td>104.01</td>\n",
       "      <td>103.54</td>\n",
       "      <td>5.21</td>\n",
       "      <td>3.30</td>\n",
       "      <td>111.42</td>\n",
       "      <td>0</td>\n",
       "      <td>0.000221</td>\n",
       "    </tr>\n",
       "    <tr>\n",
       "      <th>A_2</th>\n",
       "      <td>171.87</td>\n",
       "      <td>104.17</td>\n",
       "      <td>104.13</td>\n",
       "      <td>6.00</td>\n",
       "      <td>3.31</td>\n",
       "      <td>112.09</td>\n",
       "      <td>0</td>\n",
       "      <td>0.000025</td>\n",
       "    </tr>\n",
       "    <tr>\n",
       "      <th>A_3</th>\n",
       "      <td>172.00</td>\n",
       "      <td>104.58</td>\n",
       "      <td>104.29</td>\n",
       "      <td>4.99</td>\n",
       "      <td>3.39</td>\n",
       "      <td>111.57</td>\n",
       "      <td>0</td>\n",
       "      <td>0.000028</td>\n",
       "    </tr>\n",
       "    <tr>\n",
       "      <th>A_4</th>\n",
       "      <td>172.49</td>\n",
       "      <td>104.55</td>\n",
       "      <td>104.34</td>\n",
       "      <td>4.44</td>\n",
       "      <td>3.03</td>\n",
       "      <td>113.20</td>\n",
       "      <td>1</td>\n",
       "      <td>0.966538</td>\n",
       "    </tr>\n",
       "    <tr>\n",
       "      <th>A_5</th>\n",
       "      <td>171.65</td>\n",
       "      <td>103.63</td>\n",
       "      <td>103.56</td>\n",
       "      <td>3.77</td>\n",
       "      <td>3.16</td>\n",
       "      <td>113.33</td>\n",
       "      <td>1</td>\n",
       "      <td>0.999984</td>\n",
       "    </tr>\n",
       "  </tbody>\n",
       "</table>\n",
       "</div>"
      ],
      "text/plain": [
       "     diagonal  height_left  height_right  margin_low  margin_up  length  \\\n",
       "id                                                                        \n",
       "A_1    171.76       104.01        103.54        5.21       3.30  111.42   \n",
       "A_2    171.87       104.17        104.13        6.00       3.31  112.09   \n",
       "A_3    172.00       104.58        104.29        4.99       3.39  111.57   \n",
       "A_4    172.49       104.55        104.34        4.44       3.03  113.20   \n",
       "A_5    171.65       103.63        103.56        3.77       3.16  113.33   \n",
       "\n",
       "     is_genuine  proba_is_genuine  \n",
       "id                                 \n",
       "A_1           0          0.000221  \n",
       "A_2           0          0.000025  \n",
       "A_3           0          0.000028  \n",
       "A_4           1          0.966538  \n",
       "A_5           1          0.999984  "
      ]
     },
     "execution_count": 7,
     "metadata": {},
     "output_type": "execute_result"
    }
   ],
   "source": [
    "df"
   ]
  }
 ],
 "metadata": {
  "kernelspec": {
   "display_name": "Python 3 (ipykernel)",
   "language": "python",
   "name": "python3"
  },
  "language_info": {
   "codemirror_mode": {
    "name": "ipython",
    "version": 3
   },
   "file_extension": ".py",
   "mimetype": "text/x-python",
   "name": "python",
   "nbconvert_exporter": "python",
   "pygments_lexer": "ipython3",
   "version": "3.11.4"
  }
 },
 "nbformat": 4,
 "nbformat_minor": 5
}
